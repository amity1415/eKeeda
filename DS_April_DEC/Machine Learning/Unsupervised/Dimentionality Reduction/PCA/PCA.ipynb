{
 "cells": [
  {
   "cell_type": "markdown",
   "id": "c766fced",
   "metadata": {},
   "source": [
    "Keep the file safe, we will try to use this same dataset to do image analysis.\n",
    "--Regards,\n",
    "Amit"
   ]
  },
  {
   "cell_type": "code",
   "execution_count": 29,
   "id": "f5cd1b76",
   "metadata": {},
   "outputs": [
    {
     "name": "stdout",
     "output_type": "stream",
     "text": [
      "Requirement already satisfied: mlxtend in d:\\users\\aamit\\anaconda3\\lib\\site-packages (0.21.0)\n",
      "Requirement already satisfied: pandas>=0.24.2 in d:\\users\\aamit\\anaconda3\\lib\\site-packages (from mlxtend) (1.4.2)\n",
      "Requirement already satisfied: matplotlib>=3.0.0 in d:\\users\\aamit\\anaconda3\\lib\\site-packages (from mlxtend) (3.5.1)\n",
      "Requirement already satisfied: numpy>=1.16.2 in d:\\users\\aamit\\anaconda3\\lib\\site-packages (from mlxtend) (1.21.5)\n",
      "Requirement already satisfied: scikit-learn>=1.0.2 in d:\\users\\aamit\\anaconda3\\lib\\site-packages (from mlxtend) (1.0.2)\n",
      "Requirement already satisfied: scipy>=1.2.1 in d:\\users\\aamit\\anaconda3\\lib\\site-packages (from mlxtend) (1.7.3)\n",
      "Requirement already satisfied: joblib>=0.13.2 in d:\\users\\aamit\\anaconda3\\lib\\site-packages (from mlxtend) (1.2.0)\n",
      "Requirement already satisfied: setuptools in d:\\users\\aamit\\anaconda3\\lib\\site-packages (from mlxtend) (61.2.0)\n",
      "Requirement already satisfied: kiwisolver>=1.0.1 in d:\\users\\aamit\\anaconda3\\lib\\site-packages (from matplotlib>=3.0.0->mlxtend) (1.3.2)\n",
      "Requirement already satisfied: pillow>=6.2.0 in d:\\users\\aamit\\anaconda3\\lib\\site-packages (from matplotlib>=3.0.0->mlxtend) (9.0.1)\n",
      "Requirement already satisfied: packaging>=20.0 in d:\\users\\aamit\\anaconda3\\lib\\site-packages (from matplotlib>=3.0.0->mlxtend) (21.3)\n",
      "Requirement already satisfied: fonttools>=4.22.0 in d:\\users\\aamit\\anaconda3\\lib\\site-packages (from matplotlib>=3.0.0->mlxtend) (4.25.0)\n",
      "Requirement already satisfied: pyparsing>=2.2.1 in d:\\users\\aamit\\anaconda3\\lib\\site-packages (from matplotlib>=3.0.0->mlxtend) (3.0.4)\n",
      "Requirement already satisfied: cycler>=0.10 in d:\\users\\aamit\\anaconda3\\lib\\site-packages (from matplotlib>=3.0.0->mlxtend) (0.11.0)\n",
      "Requirement already satisfied: python-dateutil>=2.7 in d:\\users\\aamit\\anaconda3\\lib\\site-packages (from matplotlib>=3.0.0->mlxtend) (2.8.2)\n",
      "Requirement already satisfied: pytz>=2020.1 in d:\\users\\aamit\\anaconda3\\lib\\site-packages (from pandas>=0.24.2->mlxtend) (2021.3)\n",
      "Requirement already satisfied: six>=1.5 in d:\\users\\aamit\\anaconda3\\lib\\site-packages (from python-dateutil>=2.7->matplotlib>=3.0.0->mlxtend) (1.16.0)\n",
      "Requirement already satisfied: threadpoolctl>=2.0.0 in d:\\users\\aamit\\anaconda3\\lib\\site-packages (from scikit-learn>=1.0.2->mlxtend) (2.2.0)\n"
     ]
    }
   ],
   "source": [
    "!pip install mlxtend\n",
    "import sklearn\n",
    "import numpy as np\n",
    "import pandas as pd\n",
    "import matplotlib\n",
    "import matplotlib.pyplot as plt\n",
    "%matplotlib inline"
   ]
  },
  {
   "cell_type": "code",
   "execution_count": 6,
   "id": "92fd69d9",
   "metadata": {},
   "outputs": [
    {
     "name": "stdout",
     "output_type": "stream",
     "text": [
      "   0  0.1  0.2  0.3  0.4  0.5  0.6  0.7  0.8  0.9  ...  0.608  0.609  0.610  \\\n",
      "0  0    0    0    0    0    0    0    0    0    0  ...      0      0      0   \n",
      "1  0    0    0    0    0    0    0    0    0    0  ...      0      0      0   \n",
      "2  0    0    0    0    0    0    0    0    0    0  ...      0      0      0   \n",
      "3  0    0    0    0    0    0    0    0    0    0  ...      0      0      0   \n",
      "4  0    0    0    0    0    0    0    0    0    0  ...      0      0      0   \n",
      "\n",
      "   0.611  0.612  0.613  0.614  0.615  0.616  0.617  \n",
      "0      0      0      0      0      0      0      0  \n",
      "1      0      0      0      0      0      0      0  \n",
      "2      0      0      0      0      0      0      0  \n",
      "3      0      0      0      0      0      0      0  \n",
      "4      0      0      0      0      0      0      0  \n",
      "\n",
      "[5 rows x 784 columns]\n",
      "   0\n",
      "0  5\n",
      "1  0\n",
      "2  4\n",
      "3  1\n",
      "4  9\n"
     ]
    }
   ],
   "source": [
    "data = pd.read_csv('images.csv')\n",
    "print(data.head())\n",
    "\n",
    "labels = pd.read_csv('labels.csv', header= None)\n",
    "print(labels.head())"
   ]
  },
  {
   "cell_type": "code",
   "execution_count": 12,
   "id": "cccfae48",
   "metadata": {},
   "outputs": [
    {
     "data": {
      "text/plain": [
       "<matplotlib.image.AxesImage at 0x28be6b81790>"
      ]
     },
     "execution_count": 12,
     "metadata": {},
     "output_type": "execute_result"
    },
    {
     "data": {
      "image/png": "[encoded data removed]",
      "text/plain": [
       "<Figure size 432x288 with 1 Axes>"
      ]
     },
     "metadata": {
      "needs_background": "light"
     },
     "output_type": "display_data"
    }
   ],
   "source": [
    "im= data.iloc[[3]].to_numpy().reshape(28,28)\n",
    "plt.imshow(im, cmap='gray')"
   ]
  },
  {
   "cell_type": "code",
   "execution_count": null,
   "id": "7bcbb44a",
   "metadata": {},
   "outputs": [],
   "source": []
  },
  {
   "cell_type": "code",
   "execution_count": 30,
   "id": "2b1fc5d3",
   "metadata": {},
   "outputs": [],
   "source": [
    "from sklearn.datasets import fetch_openml\n",
    "\n",
    "mnist= fetch_openml('mnist_784')\n",
    "X,y= mnist['data'], mnist['target']"
   ]
  },
  {
   "cell_type": "code",
   "execution_count": 35,
   "id": "782d9dec",
   "metadata": {},
   "outputs": [
    {
     "name": "stdout",
     "output_type": "stream",
     "text": [
      "(784,)\n"
     ]
    },
    {
     "data": {
      "text/plain": [
       "<matplotlib.image.AxesImage at 0x28ba2cd2e80>"
      ]
     },
     "execution_count": 35,
     "metadata": {},
     "output_type": "execute_result"
    },
    {
     "data": {
      "image/png": "[encoded data removed]",
      "text/plain": [
       "<Figure size 432x288 with 1 Axes>"
      ]
     },
     "metadata": {
      "needs_background": "light"
     },
     "output_type": "display_data"
    }
   ],
   "source": [
    "digit_test= X.iloc[0]\n",
    "print(digit_test.shape) ##the digit is in a single Row with 784 cols.\n",
    "digit_test_image= digit_test.to_numpy().reshape(28,28)## Reshaping it to 28*28\n",
    "\n",
    "plt.imshow(digit_test_image, cmap=matplotlib.cm.binary, interpolation='nearest')"
   ]
  },
  {
   "cell_type": "code",
   "execution_count": 38,
   "id": "f5dd28c2",
   "metadata": {},
   "outputs": [
    {
     "data": {
      "text/plain": [
       "'5'"
      ]
     },
     "execution_count": 38,
     "metadata": {},
     "output_type": "execute_result"
    }
   ],
   "source": [
    "y[0]"
   ]
  },
  {
   "cell_type": "code",
   "execution_count": 39,
   "id": "bee491d6",
   "metadata": {},
   "outputs": [],
   "source": [
    "\n",
    "from sklearn.preprocessing import StandardScaler\n",
    "x1 = StandardScaler().fit_transform(X)\n",
    "#y1 = StandardScaler().fit_transform(y)\n"
   ]
  },
  {
   "cell_type": "code",
   "execution_count": 54,
   "id": "bd71c703",
   "metadata": {},
   "outputs": [],
   "source": [
    "# Let us view entire possible transformtion for df under consideration\n",
    "from sklearn.decomposition import PCA\n",
    "pca = PCA(n_components = .90)\n",
    "principalComponents = pca.fit_transform(X)"
   ]
  },
  {
   "cell_type": "code",
   "execution_count": 55,
   "id": "e50321e2",
   "metadata": {},
   "outputs": [
    {
     "data": {
      "text/plain": [
       "numpy.ndarray"
      ]
     },
     "execution_count": 55,
     "metadata": {},
     "output_type": "execute_result"
    }
   ],
   "source": [
    "type(principalComponents)"
   ]
  },
  {
   "cell_type": "code",
   "execution_count": 56,
   "id": "1a6ff556",
   "metadata": {},
   "outputs": [
    {
     "data": {
      "text/html": [
       "<div>\n",
       "<style scoped>\n",
       "    .dataframe tbody tr th:only-of-type {\n",
       "        vertical-align: middle;\n",
       "    }\n",
       "\n",
       "    .dataframe tbody tr th {\n",
       "        vertical-align: top;\n",
       "    }\n",
       "\n",
       "    .dataframe thead th {\n",
       "        text-align: right;\n",
       "    }\n",
       "</style>\n",
       "<table border=\"1\" class=\"dataframe\">\n",
       "  <thead>\n",
       "    <tr style=\"text-align: right;\">\n",
       "      <th></th>\n",
       "      <th>0</th>\n",
       "      <th>1</th>\n",
       "      <th>2</th>\n",
       "      <th>3</th>\n",
       "      <th>4</th>\n",
       "      <th>5</th>\n",
       "      <th>6</th>\n",
       "      <th>7</th>\n",
       "      <th>8</th>\n",
       "      <th>9</th>\n",
       "      <th>...</th>\n",
       "      <th>77</th>\n",
       "      <th>78</th>\n",
       "      <th>79</th>\n",
       "      <th>80</th>\n",
       "      <th>81</th>\n",
       "      <th>82</th>\n",
       "      <th>83</th>\n",
       "      <th>84</th>\n",
       "      <th>85</th>\n",
       "      <th>86</th>\n",
       "    </tr>\n",
       "  </thead>\n",
       "  <tbody>\n",
       "    <tr>\n",
       "      <th>0</th>\n",
       "      <td>122.255255</td>\n",
       "      <td>-316.233844</td>\n",
       "      <td>-51.131831</td>\n",
       "      <td>-556.897988</td>\n",
       "      <td>-49.210119</td>\n",
       "      <td>-217.069322</td>\n",
       "      <td>233.713325</td>\n",
       "      <td>188.824032</td>\n",
       "      <td>-358.798925</td>\n",
       "      <td>203.545001</td>\n",
       "      <td>...</td>\n",
       "      <td>-45.653172</td>\n",
       "      <td>-31.526108</td>\n",
       "      <td>-43.566231</td>\n",
       "      <td>39.919409</td>\n",
       "      <td>-98.042117</td>\n",
       "      <td>16.342269</td>\n",
       "      <td>54.018193</td>\n",
       "      <td>-29.964339</td>\n",
       "      <td>-20.791397</td>\n",
       "      <td>-148.417136</td>\n",
       "    </tr>\n",
       "    <tr>\n",
       "      <th>1</th>\n",
       "      <td>1010.494003</td>\n",
       "      <td>-289.963621</td>\n",
       "      <td>576.120745</td>\n",
       "      <td>-485.083384</td>\n",
       "      <td>-841.478355</td>\n",
       "      <td>-145.467158</td>\n",
       "      <td>-48.333388</td>\n",
       "      <td>-102.231088</td>\n",
       "      <td>34.786211</td>\n",
       "      <td>151.265038</td>\n",
       "      <td>...</td>\n",
       "      <td>-3.456519</td>\n",
       "      <td>-84.986441</td>\n",
       "      <td>67.293515</td>\n",
       "      <td>-30.983509</td>\n",
       "      <td>-26.328600</td>\n",
       "      <td>50.589361</td>\n",
       "      <td>-74.765745</td>\n",
       "      <td>-23.570446</td>\n",
       "      <td>-59.865074</td>\n",
       "      <td>-14.457819</td>\n",
       "    </tr>\n",
       "    <tr>\n",
       "      <th>2</th>\n",
       "      <td>-58.995947</td>\n",
       "      <td>393.697445</td>\n",
       "      <td>-161.998184</td>\n",
       "      <td>529.220866</td>\n",
       "      <td>-313.159323</td>\n",
       "      <td>8.970184</td>\n",
       "      <td>-860.990143</td>\n",
       "      <td>374.289391</td>\n",
       "      <td>-78.501242</td>\n",
       "      <td>-192.717658</td>\n",
       "      <td>...</td>\n",
       "      <td>167.968010</td>\n",
       "      <td>24.095042</td>\n",
       "      <td>-233.929317</td>\n",
       "      <td>168.677665</td>\n",
       "      <td>-56.690129</td>\n",
       "      <td>-130.293115</td>\n",
       "      <td>-119.288383</td>\n",
       "      <td>45.282899</td>\n",
       "      <td>3.167758</td>\n",
       "      <td>24.796799</td>\n",
       "    </tr>\n",
       "    <tr>\n",
       "      <th>3</th>\n",
       "      <td>-796.965019</td>\n",
       "      <td>-607.421250</td>\n",
       "      <td>295.522702</td>\n",
       "      <td>109.112831</td>\n",
       "      <td>25.666331</td>\n",
       "      <td>697.859150</td>\n",
       "      <td>-474.507968</td>\n",
       "      <td>-99.776449</td>\n",
       "      <td>298.602425</td>\n",
       "      <td>4.532776</td>\n",
       "      <td>...</td>\n",
       "      <td>-15.717553</td>\n",
       "      <td>-30.947435</td>\n",
       "      <td>6.881729</td>\n",
       "      <td>-20.017671</td>\n",
       "      <td>31.590673</td>\n",
       "      <td>15.681150</td>\n",
       "      <td>-91.427417</td>\n",
       "      <td>-3.750082</td>\n",
       "      <td>5.873136</td>\n",
       "      <td>24.058234</td>\n",
       "    </tr>\n",
       "    <tr>\n",
       "      <th>4</th>\n",
       "      <td>-391.318921</td>\n",
       "      <td>729.804185</td>\n",
       "      <td>13.906964</td>\n",
       "      <td>-242.894182</td>\n",
       "      <td>98.772991</td>\n",
       "      <td>35.925878</td>\n",
       "      <td>-87.458146</td>\n",
       "      <td>-415.778351</td>\n",
       "      <td>200.297865</td>\n",
       "      <td>106.207817</td>\n",
       "      <td>...</td>\n",
       "      <td>-5.953471</td>\n",
       "      <td>52.658138</td>\n",
       "      <td>27.060950</td>\n",
       "      <td>111.515773</td>\n",
       "      <td>-55.370300</td>\n",
       "      <td>19.103937</td>\n",
       "      <td>-77.368490</td>\n",
       "      <td>-49.303936</td>\n",
       "      <td>-51.819421</td>\n",
       "      <td>9.866342</td>\n",
       "    </tr>\n",
       "  </tbody>\n",
       "</table>\n",
       "<p>5 rows × 87 columns</p>\n",
       "</div>"
      ],
      "text/plain": [
       "            0           1           2           3           4           5   \\\n",
       "0   122.255255 -316.233844  -51.131831 -556.897988  -49.210119 -217.069322   \n",
       "1  1010.494003 -289.963621  576.120745 -485.083384 -841.478355 -145.467158   \n",
       "2   -58.995947  393.697445 -161.998184  529.220866 -313.159323    8.970184   \n",
       "3  -796.965019 -607.421250  295.522702  109.112831   25.666331  697.859150   \n",
       "4  -391.318921  729.804185   13.906964 -242.894182   98.772991   35.925878   \n",
       "\n",
       "           6           7           8           9   ...          77         78  \\\n",
       "0  233.713325  188.824032 -358.798925  203.545001  ...  -45.653172 -31.526108   \n",
       "1  -48.333388 -102.231088   34.786211  151.265038  ...   -3.456519 -84.986441   \n",
       "2 -860.990143  374.289391  -78.501242 -192.717658  ...  167.968010  24.095042   \n",
       "3 -474.507968  -99.776449  298.602425    4.532776  ...  -15.717553 -30.947435   \n",
       "4  -87.458146 -415.778351  200.297865  106.207817  ...   -5.953471  52.658138   \n",
       "\n",
       "           79          80         81          82          83         84  \\\n",
       "0  -43.566231   39.919409 -98.042117   16.342269   54.018193 -29.964339   \n",
       "1   67.293515  -30.983509 -26.328600   50.589361  -74.765745 -23.570446   \n",
       "2 -233.929317  168.677665 -56.690129 -130.293115 -119.288383  45.282899   \n",
       "3    6.881729  -20.017671  31.590673   15.681150  -91.427417  -3.750082   \n",
       "4   27.060950  111.515773 -55.370300   19.103937  -77.368490 -49.303936   \n",
       "\n",
       "          85          86  \n",
       "0 -20.791397 -148.417136  \n",
       "1 -59.865074  -14.457819  \n",
       "2   3.167758   24.796799  \n",
       "3   5.873136   24.058234  \n",
       "4 -51.819421    9.866342  \n",
       "\n",
       "[5 rows x 87 columns]"
      ]
     },
     "execution_count": 56,
     "metadata": {},
     "output_type": "execute_result"
    }
   ],
   "source": [
    "PC_df = pd.DataFrame(data = principalComponents)\n",
    "PC_df.head()"
   ]
  },
  {
   "cell_type": "code",
   "execution_count": 57,
   "id": "fb8a1b56",
   "metadata": {},
   "outputs": [],
   "source": [
    "#Inverse Transform on PC_DF data.\n",
    "principalComponents_Inverse= pca.inverse_transform(principalComponents)\n",
    "##Performing Inverse Transform to get back the Original Set of Data from the Dimentionally Reduced data.\n",
    "#We will get back to the original columns and try to generate its original values(approx) from the 90% PCA defined columns. (39 Columns)"
   ]
  },
  {
   "cell_type": "code",
   "execution_count": 58,
   "id": "9f64d1d9",
   "metadata": {},
   "outputs": [
    {
     "data": {
      "text/plain": [
       "(70000, 784)"
      ]
     },
     "execution_count": 58,
     "metadata": {},
     "output_type": "execute_result"
    }
   ],
   "source": [
    "principalComponents_Inverse.shape"
   ]
  },
  {
   "cell_type": "code",
   "execution_count": 59,
   "id": "f2d239b4",
   "metadata": {},
   "outputs": [
    {
     "data": {
      "text/html": [
       "<div>\n",
       "<style scoped>\n",
       "    .dataframe tbody tr th:only-of-type {\n",
       "        vertical-align: middle;\n",
       "    }\n",
       "\n",
       "    .dataframe tbody tr th {\n",
       "        vertical-align: top;\n",
       "    }\n",
       "\n",
       "    .dataframe thead th {\n",
       "        text-align: right;\n",
       "    }\n",
       "</style>\n",
       "<table border=\"1\" class=\"dataframe\">\n",
       "  <thead>\n",
       "    <tr style=\"text-align: right;\">\n",
       "      <th></th>\n",
       "      <th>0</th>\n",
       "      <th>1</th>\n",
       "      <th>2</th>\n",
       "      <th>3</th>\n",
       "      <th>4</th>\n",
       "      <th>5</th>\n",
       "      <th>6</th>\n",
       "      <th>7</th>\n",
       "      <th>8</th>\n",
       "      <th>9</th>\n",
       "      <th>...</th>\n",
       "      <th>774</th>\n",
       "      <th>775</th>\n",
       "      <th>776</th>\n",
       "      <th>777</th>\n",
       "      <th>778</th>\n",
       "      <th>779</th>\n",
       "      <th>780</th>\n",
       "      <th>781</th>\n",
       "      <th>782</th>\n",
       "      <th>783</th>\n",
       "    </tr>\n",
       "  </thead>\n",
       "  <tbody>\n",
       "    <tr>\n",
       "      <th>0</th>\n",
       "      <td>1.386749e-14</td>\n",
       "      <td>-2.894877e-13</td>\n",
       "      <td>6.407971e-13</td>\n",
       "      <td>3.522796e-14</td>\n",
       "      <td>-2.172490e-13</td>\n",
       "      <td>3.070224e-14</td>\n",
       "      <td>1.591237e-13</td>\n",
       "      <td>-1.085206e-13</td>\n",
       "      <td>-3.528827e-14</td>\n",
       "      <td>-1.039542e-14</td>\n",
       "      <td>...</td>\n",
       "      <td>-0.729594</td>\n",
       "      <td>-0.436998</td>\n",
       "      <td>-0.166402</td>\n",
       "      <td>-0.062851</td>\n",
       "      <td>-0.015626</td>\n",
       "      <td>-0.001105</td>\n",
       "      <td>0.0</td>\n",
       "      <td>0.0</td>\n",
       "      <td>0.0</td>\n",
       "      <td>0.0</td>\n",
       "    </tr>\n",
       "    <tr>\n",
       "      <th>1</th>\n",
       "      <td>1.834033e-15</td>\n",
       "      <td>3.282982e-13</td>\n",
       "      <td>2.317628e-13</td>\n",
       "      <td>5.676196e-14</td>\n",
       "      <td>-2.143701e-13</td>\n",
       "      <td>-2.403921e-15</td>\n",
       "      <td>-2.049491e-13</td>\n",
       "      <td>2.520154e-14</td>\n",
       "      <td>1.027674e-13</td>\n",
       "      <td>5.519699e-14</td>\n",
       "      <td>...</td>\n",
       "      <td>0.148194</td>\n",
       "      <td>0.114557</td>\n",
       "      <td>0.101829</td>\n",
       "      <td>0.052163</td>\n",
       "      <td>0.146009</td>\n",
       "      <td>0.035501</td>\n",
       "      <td>0.0</td>\n",
       "      <td>0.0</td>\n",
       "      <td>0.0</td>\n",
       "      <td>0.0</td>\n",
       "    </tr>\n",
       "    <tr>\n",
       "      <th>2</th>\n",
       "      <td>8.026328e-16</td>\n",
       "      <td>8.787575e-14</td>\n",
       "      <td>-1.663825e-13</td>\n",
       "      <td>-6.746713e-14</td>\n",
       "      <td>-1.312416e-13</td>\n",
       "      <td>-1.765380e-13</td>\n",
       "      <td>6.478450e-14</td>\n",
       "      <td>-9.617171e-14</td>\n",
       "      <td>3.016414e-14</td>\n",
       "      <td>-4.883658e-15</td>\n",
       "      <td>...</td>\n",
       "      <td>5.924608</td>\n",
       "      <td>3.217010</td>\n",
       "      <td>1.180797</td>\n",
       "      <td>0.233034</td>\n",
       "      <td>0.080225</td>\n",
       "      <td>0.014390</td>\n",
       "      <td>0.0</td>\n",
       "      <td>0.0</td>\n",
       "      <td>0.0</td>\n",
       "      <td>0.0</td>\n",
       "    </tr>\n",
       "    <tr>\n",
       "      <th>3</th>\n",
       "      <td>-6.109776e-16</td>\n",
       "      <td>1.477426e-13</td>\n",
       "      <td>1.965066e-13</td>\n",
       "      <td>-8.207039e-14</td>\n",
       "      <td>1.061822e-14</td>\n",
       "      <td>-9.414536e-14</td>\n",
       "      <td>-1.678670e-13</td>\n",
       "      <td>-2.732034e-14</td>\n",
       "      <td>3.127806e-14</td>\n",
       "      <td>-7.310495e-14</td>\n",
       "      <td>...</td>\n",
       "      <td>0.352664</td>\n",
       "      <td>0.110344</td>\n",
       "      <td>0.038463</td>\n",
       "      <td>0.005602</td>\n",
       "      <td>0.010635</td>\n",
       "      <td>0.001845</td>\n",
       "      <td>0.0</td>\n",
       "      <td>0.0</td>\n",
       "      <td>0.0</td>\n",
       "      <td>0.0</td>\n",
       "    </tr>\n",
       "    <tr>\n",
       "      <th>4</th>\n",
       "      <td>-6.740211e-16</td>\n",
       "      <td>1.413321e-13</td>\n",
       "      <td>-7.799232e-14</td>\n",
       "      <td>1.623259e-14</td>\n",
       "      <td>-1.731417e-13</td>\n",
       "      <td>1.762649e-13</td>\n",
       "      <td>4.799994e-14</td>\n",
       "      <td>1.908550e-13</td>\n",
       "      <td>-7.930444e-14</td>\n",
       "      <td>4.229005e-14</td>\n",
       "      <td>...</td>\n",
       "      <td>0.127595</td>\n",
       "      <td>-0.225664</td>\n",
       "      <td>-0.216409</td>\n",
       "      <td>-0.082821</td>\n",
       "      <td>-0.117667</td>\n",
       "      <td>-0.007863</td>\n",
       "      <td>0.0</td>\n",
       "      <td>0.0</td>\n",
       "      <td>0.0</td>\n",
       "      <td>0.0</td>\n",
       "    </tr>\n",
       "  </tbody>\n",
       "</table>\n",
       "<p>5 rows × 784 columns</p>\n",
       "</div>"
      ],
      "text/plain": [
       "            0             1             2             3             4    \\\n",
       "0  1.386749e-14 -2.894877e-13  6.407971e-13  3.522796e-14 -2.172490e-13   \n",
       "1  1.834033e-15  3.282982e-13  2.317628e-13  5.676196e-14 -2.143701e-13   \n",
       "2  8.026328e-16  8.787575e-14 -1.663825e-13 -6.746713e-14 -1.312416e-13   \n",
       "3 -6.109776e-16  1.477426e-13  1.965066e-13 -8.207039e-14  1.061822e-14   \n",
       "4 -6.740211e-16  1.413321e-13 -7.799232e-14  1.623259e-14 -1.731417e-13   \n",
       "\n",
       "            5             6             7             8             9    ...  \\\n",
       "0  3.070224e-14  1.591237e-13 -1.085206e-13 -3.528827e-14 -1.039542e-14  ...   \n",
       "1 -2.403921e-15 -2.049491e-13  2.520154e-14  1.027674e-13  5.519699e-14  ...   \n",
       "2 -1.765380e-13  6.478450e-14 -9.617171e-14  3.016414e-14 -4.883658e-15  ...   \n",
       "3 -9.414536e-14 -1.678670e-13 -2.732034e-14  3.127806e-14 -7.310495e-14  ...   \n",
       "4  1.762649e-13  4.799994e-14  1.908550e-13 -7.930444e-14  4.229005e-14  ...   \n",
       "\n",
       "        774       775       776       777       778       779  780  781  782  \\\n",
       "0 -0.729594 -0.436998 -0.166402 -0.062851 -0.015626 -0.001105  0.0  0.0  0.0   \n",
       "1  0.148194  0.114557  0.101829  0.052163  0.146009  0.035501  0.0  0.0  0.0   \n",
       "2  5.924608  3.217010  1.180797  0.233034  0.080225  0.014390  0.0  0.0  0.0   \n",
       "3  0.352664  0.110344  0.038463  0.005602  0.010635  0.001845  0.0  0.0  0.0   \n",
       "4  0.127595 -0.225664 -0.216409 -0.082821 -0.117667 -0.007863  0.0  0.0  0.0   \n",
       "\n",
       "   783  \n",
       "0  0.0  \n",
       "1  0.0  \n",
       "2  0.0  \n",
       "3  0.0  \n",
       "4  0.0  \n",
       "\n",
       "[5 rows x 784 columns]"
      ]
     },
     "execution_count": 59,
     "metadata": {},
     "output_type": "execute_result"
    }
   ],
   "source": [
    "PC_df_Inverse = pd.DataFrame(data = principalComponents_Inverse)##Setting the NDarray to a dataframe.\n",
    "PC_df_Inverse.head()"
   ]
  },
  {
   "cell_type": "code",
   "execution_count": 60,
   "id": "52822c31",
   "metadata": {},
   "outputs": [
    {
     "name": "stdout",
     "output_type": "stream",
     "text": [
      "(784,)\n"
     ]
    },
    {
     "data": {
      "text/plain": [
       "numpy.ndarray"
      ]
     },
     "execution_count": 60,
     "metadata": {},
     "output_type": "execute_result"
    }
   ],
   "source": [
    "digit_test_Inverse=principalComponents_Inverse[0]\n",
    "print(digit_test_Inverse.shape) ##Original columns are retrivied and its approximate values are predicted from the 50% PCA generated columns(39 columns)\n",
    "digit_test_image_Inverse= digit_test_Inverse.reshape(28,28) ## Reshaping it to 28*28 matrix so as to get a pictorial view of the data.\n",
    "type(digit_test_image_Inverse)"
   ]
  },
  {
   "cell_type": "code",
   "execution_count": 61,
   "id": "a91d5782",
   "metadata": {},
   "outputs": [
    {
     "data": {
      "text/plain": [
       "<matplotlib.image.AxesImage at 0x28ba56cdd60>"
      ]
     },
     "execution_count": 61,
     "metadata": {},
     "output_type": "execute_result"
    },
    {
     "data": {
      "image/png": "[encoded data removed]",
      "text/plain": [
       "<Figure size 432x288 with 1 Axes>"
      ]
     },
     "metadata": {
      "needs_background": "light"
     },
     "output_type": "display_data"
    }
   ],
   "source": [
    "plt.imshow(digit_test_image_Inverse, cmap=matplotlib.cm.binary, interpolation='nearest') ## Predicting the data after inverse Transform."
   ]
  }
 ],
 "metadata": {
  "kernelspec": {
   "display_name": "Python 3 (ipykernel)",
   "language": "python",
   "name": "python3"
  },
  "language_info": {
   "codemirror_mode": {
    "name": "ipython",
    "version": 3
   },
   "file_extension": ".py",
   "mimetype": "text/x-python",
   "name": "python",
   "nbconvert_exporter": "python",
   "pygments_lexer": "ipython3",
   "version": "3.9.12"
  }
 },
 "nbformat": 4,
 "nbformat_minor": 5
}
