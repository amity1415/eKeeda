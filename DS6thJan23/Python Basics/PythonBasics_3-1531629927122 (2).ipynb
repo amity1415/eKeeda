{
 "cells": [
  {
   "cell_type": "markdown",
   "metadata": {},
   "source": [
    "# <center>Python Basics<center/> \n",
    "<img height=\"60\" width=\"120\" src=\"https://www.python.org/static/img/python-logo-large.png?1414305901\"></img>"
   ]
  },
  {
   "cell_type": "markdown",
   "metadata": {},
   "source": [
    "# Table of contents\n",
    "<br/>\n",
    "<a href = \"#9.-Python-Output\">09. Python Output</a><br/>\n",
    "<a href = \"#10.-Output-Formatting\">10. Output Formatting</a><br/>\n",
    "<a href = \"#11.-Python-Input\">11. Python Input</a>"
   ]
  },
  {
   "cell_type": "markdown",
   "metadata": {},
   "source": [
    "# Python I/O functions"
   ]
  },
  {
   "cell_type": "markdown",
   "metadata": {},
   "source": [
    "# 9. Python Output"
   ]
  },
  {
   "cell_type": "markdown",
   "metadata": {},
   "source": [
    "To see the output on the screen(standard output device), use the <b>print()</b> function "
   ]
  },
  {
   "cell_type": "code",
   "execution_count": 9,
   "metadata": {},
   "outputs": [
    {
     "name": "stdout",
     "output_type": "stream",
     "text": [
      "This is a demo output\n"
     ]
    }
   ],
   "source": [
    "var = \"This is a demo output\"\n",
    "print(var)"
   ]
  },
  {
   "cell_type": "code",
   "execution_count": 28,
   "metadata": {},
   "outputs": [
    {
     "name": "stdout",
     "output_type": "stream",
     "text": [
      "2\n",
      "\n"
     ]
    }
   ],
   "source": [
    "#1 = \"This is a demo output\"\n",
    "#2=2 # Variables can't be a numerical value\n",
    "#print(1)\n",
    "var = 1\n",
    "var = '2'\n",
    "num= 2\n",
    "num2 =2\n",
    "\n",
    "print(var)\n",
    "print(\"\")"
   ]
  },
  {
   "cell_type": "code",
   "execution_count": 29,
   "metadata": {},
   "outputs": [
    {
     "name": "stdout",
     "output_type": "stream",
     "text": [
      "True\n"
     ]
    }
   ],
   "source": [
    "if(num2==num):\n",
    "    print(True)\n",
    "else:\n",
    "    print(False)\n",
    "    \n",
    "#It is comparing the content along with type.\n"
   ]
  },
  {
   "cell_type": "code",
   "execution_count": 34,
   "metadata": {},
   "outputs": [
    {
     "name": "stdout",
     "output_type": "stream",
     "text": [
      "The value of My Int is :  500\n",
      "The value of My Int is :  500\n",
      "True\n"
     ]
    }
   ],
   "source": [
    "myInt = 500\n",
    "myStr = '500'\n",
    "print('The value of My Int is : ', myInt)\n",
    "print('The value of My Int is : ', str(myInt))\n",
    "print(myStr == str(myInt))"
   ]
  },
  {
   "cell_type": "markdown",
   "metadata": {},
   "source": [
    "# 10. Output Formatting"
   ]
  },
  {
   "cell_type": "markdown",
   "metadata": {},
   "source": [
    "To make the output look attractive<br/> \n",
    "we use the <b> str.format() </b> method.<br/> \n",
    "This method is visible to any string object."
   ]
  },
  {
   "cell_type": "code",
   "execution_count": 35,
   "metadata": {},
   "outputs": [
    {
     "name": "stdout",
     "output_type": "stream",
     "text": [
      "myInt1 is : 20 value and myInt2 is 30 value \n"
     ]
    }
   ],
   "source": [
    "myInt1= 20\n",
    "myInt2= 30\n",
    "print(\"myInt1 is : {} value and myInt2 is {} value \".format(myInt1, myInt2))\n"
   ]
  },
  {
   "cell_type": "code",
   "execution_count": 43,
   "metadata": {},
   "outputs": [
    {
     "name": "stdout",
     "output_type": "stream",
     "text": [
      "myInt1 is : 40 value and myInt2 is : 50 value\n"
     ]
    }
   ],
   "source": [
    "myInt1 = 40 \n",
    "myInt2= 80\n",
    "print(\"myInt1 is : {0} value and myInt2 is : {2} value\".format(myInt1,myInt2, 50))"
   ]
  },
  {
   "cell_type": "code",
   "execution_count": 57,
   "metadata": {},
   "outputs": [
    {
     "name": "stdout",
     "output_type": "stream",
     "text": [
      "myInt1 is : 40 value and myInt2 is 80 value and we are learning Python\n"
     ]
    }
   ],
   "source": [
    "Subject= \"Python\"\n",
    "print(\"myInt1 is : {0} value and myInt2 is {1} value and we are learning {2}\".format(myInt1,myInt2, Subject ))"
   ]
  },
  {
   "cell_type": "code",
   "execution_count": 61,
   "metadata": {},
   "outputs": [
    {
     "name": "stdout",
     "output_type": "stream",
     "text": [
      "myInt1 is : 40 value and myInt2 is 80 value and we are learning python\n"
     ]
    }
   ],
   "source": [
    "Subject=\"python\"\n",
    "print(\"myInt1 is : {0} value and myInt2 is {1} value and we are learning {2}\".format(myInt1,myInt2 ,Subject ))"
   ]
  },
  {
   "cell_type": "code",
   "execution_count": 55,
   "metadata": {},
   "outputs": [
    {
     "ename": "KeyError",
     "evalue": "'Subject'",
     "output_type": "error",
     "traceback": [
      "\u001b[1;31m---------------------------------------------------------------------------\u001b[0m",
      "\u001b[1;31mKeyError\u001b[0m                                  Traceback (most recent call last)",
      "Cell \u001b[1;32mIn[55], line 2\u001b[0m\n\u001b[0;32m      1\u001b[0m Subject\u001b[38;5;241m=\u001b[39m\u001b[38;5;124m\"\u001b[39m\u001b[38;5;124mpython\u001b[39m\u001b[38;5;124m\"\u001b[39m\n\u001b[1;32m----> 2\u001b[0m \u001b[38;5;28mprint\u001b[39m(\u001b[38;5;124;43m\"\u001b[39;49m\u001b[38;5;124;43mmyInt1 is : \u001b[39;49m\u001b[38;5;132;43;01m{1}\u001b[39;49;00m\u001b[38;5;124;43m value and myInt2 is \u001b[39;49m\u001b[38;5;132;43;01m{0}\u001b[39;49;00m\u001b[38;5;124;43m value and we are learning \u001b[39;49m\u001b[38;5;132;43;01m{Subject}\u001b[39;49;00m\u001b[38;5;124;43m\"\u001b[39;49m\u001b[38;5;241;43m.\u001b[39;49m\u001b[43mformat\u001b[49m\u001b[43m(\u001b[49m\u001b[43mmyInt1\u001b[49m\u001b[43m,\u001b[49m\u001b[43mmyInt2\u001b[49m\u001b[43m,\u001b[49m\u001b[43mSubject\u001b[49m\u001b[43m  \u001b[49m\u001b[43m)\u001b[49m)\n",
      "\u001b[1;31mKeyError\u001b[0m: 'Subject'"
     ]
    }
   ],
   "source": [
    "Subject=\"python\"\n",
    "print(\"myInt1 is : {1} value and myInt2 is {0} value and we are learning {Subject}\".format(myInt1,myInt2,Subject  ))"
   ]
  },
  {
   "cell_type": "markdown",
   "metadata": {},
   "source": [
    "Refer documentation for more examples: https://docs.python.org/3.4/library/string.html#format-examples"
   ]
  },
  {
   "cell_type": "code",
   "execution_count": null,
   "metadata": {},
   "outputs": [],
   "source": []
  },
  {
   "cell_type": "markdown",
   "metadata": {},
   "source": [
    "# 11. Python Input"
   ]
  },
  {
   "cell_type": "markdown",
   "metadata": {},
   "source": [
    "User inputs can be taken in Python by using the input() function. "
   ]
  },
  {
   "cell_type": "code",
   "execution_count": 62,
   "metadata": {},
   "outputs": [
    {
     "name": "stdout",
     "output_type": "stream",
     "text": [
      " Please Enter some Data: !!!Hi !!! Welcome to the Python Lecture.\n",
      " The user input is as follows:  Hi !!! Welcome to the Python Lecture.\n"
     ]
    }
   ],
   "source": [
    "userInput = input(\" Please Enter some Data: !!!\")\n",
    "print(\" The user input is as follows: \", userInput)"
   ]
  },
  {
   "cell_type": "code",
   "execution_count": 63,
   "metadata": {},
   "outputs": [
    {
     "name": "stdout",
     "output_type": "stream",
     "text": [
      " The user Input type is:  <class 'str'>\n"
     ]
    }
   ],
   "source": [
    "print(\" The user Input type is: \", type(userInput))"
   ]
  },
  {
   "cell_type": "code",
   "execution_count": 72,
   "metadata": {},
   "outputs": [
    {
     "name": "stdout",
     "output_type": "stream",
     "text": [
      "PLease enter some data!!!2.0\n",
      " User output:  2.0\n",
      " User output type:  <class 'str'>\n",
      " User output type:  <class 'float'>\n"
     ]
    }
   ],
   "source": [
    "userInput = input(\"PLease enter some data!!!\")\n",
    "print(\" User output: \", userInput)\n",
    "print(\" User output type: \", type(userInput))\n",
    "print(\" User output type: \", type(float(userInput)))\n",
    "#If I am taking any user input as a number having digits after decimal points then we will need to perform type conversion to float.\n"
   ]
  },
  {
   "cell_type": "code",
   "execution_count": 73,
   "metadata": {},
   "outputs": [
    {
     "name": "stdout",
     "output_type": "stream",
     "text": [
      "PLease enter some data!!!2.1\n",
      " User output in float:  2.1\n",
      " User output converted to int:  2\n"
     ]
    }
   ],
   "source": [
    "userInput = input(\"PLease enter some data!!!\")\n",
    "userInputFloat = float(userInput)\n",
    "print(\" User output in float: \", userInputFloat)\n",
    "userInputInt = int(userInputFloat)\n",
    "print(\" User output converted to int: \", userInputInt)"
   ]
  },
  {
   "cell_type": "code",
   "execution_count": null,
   "metadata": {},
   "outputs": [],
   "source": []
  }
 ],
 "metadata": {
  "kernelspec": {
   "display_name": "Python 3 (ipykernel)",
   "language": "python",
   "name": "python3"
  },
  "language_info": {
   "codemirror_mode": {
    "name": "ipython",
    "version": 3
   },
   "file_extension": ".py",
   "mimetype": "text/x-python",
   "name": "python",
   "nbconvert_exporter": "python",
   "pygments_lexer": "ipython3",
   "version": "3.9.16"
  }
 },
 "nbformat": 4,
 "nbformat_minor": 2
}
