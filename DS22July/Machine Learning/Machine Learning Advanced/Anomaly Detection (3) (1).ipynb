{
 "cells": [
  {
   "cell_type": "markdown",
   "metadata": {
    "colab_type": "text",
    "id": "imWqSI8-Kew7"
   },
   "source": [
    "\n",
    "\n",
    "# Anomaly Detection"
   ]
  },
  {
   "cell_type": "markdown",
   "metadata": {
    "colab_type": "text",
    "id": "g0-QFd-7Kew9"
   },
   "source": [
    "## Table of Content\n",
    "\n",
    "1. [Introduction to Anomaly Detection](#section1)<br>\n",
    "    - 1.1 [What are anomalies?](#section101)<br>\n",
    "    - 1.2 [Anomaly Detection Technique](#section102)<br>\n",
    "        - 1.2.1 [Simple Statistical Methods](#section103)<br>\n",
    "        - 1.2.2 [Machine Learning Based Approach](#section104)<br>\n",
    "            - 1.2.2.1 [Density based](#section105)<br>\n",
    "            - 1.2.2.2 [Clustering based](#section106)<br>\n",
    "            - 1.2.2.3 [Support vector Machines based](#section107)<br>\n",
    "2. [Use Case : Expedia](#section2)<br>\n",
    "3. [Data Preprocessing](#section3)<br>\n",
    "4. [Exploratory Data Analysis](#section4)<br>\n",
    "5. [Model Prediction](#section5)<br>\n",
    "    - 5.1 [Clustering Based](#section501)<br>\n",
    "    - 5.2 [Isolation Forest](#section502)<br>\n",
    "    - 5.3 [One Class SVM](#section503)<br>\n",
    "6. [Conclusion](#section6)<br>"
   ]
  },
  {
   "cell_type": "markdown",
   "metadata": {
    "colab_type": "text",
    "id": "QXcvLebsKew-"
   },
   "source": [
    "<a id=section1></a>\n",
    "## 1. Introduction"
   ]
  },
  {
   "cell_type": "markdown",
   "metadata": {
    "colab_type": "text",
    "id": "yxMSWz71Kew_"
   },
   "source": [
    "Anomaly detection is a technique used to __identify unusual patterns__ that do not conform to expected behavior, called __outliers__. \n",
    "- It has many applications in business, from \n",
    "    - __Intrusion detection__ (identifying strange patterns in network traffic that could signal a hack).\n",
    "    - System __health monitoring__ (spotting a malignant tumor in an MRI scan).\n",
    "    - __Fraud detection__ in credit card transactions.\n",
    "    - __Fault detection__ in operating environments.\n",
    "    <img src = 'https://raw.githubusercontent.com/insaid2018/Term-4/master/images/anamoli_images/ana1.png'>"
   ]
  },
  {
   "cell_type": "markdown",
   "metadata": {
    "colab_type": "text",
    "id": "kOyaNXeWKexA"
   },
   "source": [
    "<a id=section101></a>\n",
    "### 1.1 What are anomalies?"
   ]
  },
  {
   "cell_type": "markdown",
   "metadata": {
    "colab_type": "text",
    "id": "I_RO6czZKexB"
   },
   "source": [
    "Anomalies can be broadly categorized as:<br>\n",
    "1. Point anomalies\n",
    "2. Contextual anmoalies\n",
    "3. Collective anomalies"
   ]
  },
  {
   "cell_type": "markdown",
   "metadata": {
    "colab_type": "text",
    "id": "F2oDnaOWKexB"
   },
   "source": [
    "#### 1. Point Anamoly  \n",
    "A single instance of data is anomalous if it's too far off from the rest. <br><br>__Business use case__: Detecting credit card fraud based on \"amount spent.\"<br>\n",
    "<img src = 'https://raw.githubusercontent.com/insaid2018/Term-4/master/images/anamoli_images/ana2.png'>"
   ]
  },
  {
   "cell_type": "markdown",
   "metadata": {
    "colab_type": "text",
    "id": "aQ2fvWeaKexC"
   },
   "source": [
    "**2. Contextual Anomaly**<br><br>\n",
    "The abnormality is context specific. This type of anomaly is common in time-series data.<br><br> \n",
    "**Business use case**: Spending $100 on food every day during the holiday season is normal, but may be odd otherwise.<br>\n",
    "<img src = 'https://raw.githubusercontent.com/insaid2018/Term-4/master/images/anamoli_images/ana3.png'>"
   ]
  },
  {
   "cell_type": "markdown",
   "metadata": {
    "colab_type": "text",
    "id": "-qs2JhMPKexD"
   },
   "source": [
    "**3. Collective Anomaly**<br><br>\n",
    "A set of data instances collectively helps in detecting anomalies.<br><br> \n",
    "**Business use case:** Someone is trying to copy data from a remote machine to a local host unexpectedly, an anomaly that would be flagged as a potential cyber attack. <br>\n",
    "<img src = 'https://raw.githubusercontent.com/insaid2018/Term-4/master/images/anamoli_images/ana4.png'>"
   ]
  },
  {
   "cell_type": "markdown",
   "metadata": {
    "colab_type": "text",
    "id": "4-fvfe_zKexD"
   },
   "source": [
    "Anomaly detection is similar to — but not entirely the same as — __noise removal__ and __novelty detection__. <br><br>\n",
    "- **Novelty detection**: is concerned with identifying an unobserved pattern in new observations not included in training data — like a sudden interest in a new channel on YouTube during Christmas, for instance.`<br><br> \n",
    "- **Noise removal (NR)** is the process of immunizing analysis from the occurrence of unwanted observations; in other words, removing noise from an otherwise meaningful signal."
   ]
  },
  {
   "cell_type": "markdown",
   "metadata": {
    "colab_type": "text",
    "id": "MRgZEizJKexE"
   },
   "source": [
    "<a id=section102></a>\n",
    "## 1.2 Anomaly Detection Techniques"
   ]
  },
  {
   "cell_type": "markdown",
   "metadata": {
    "colab_type": "text",
    "id": "fg5O4SxQKexE"
   },
   "source": [
    "<a id=section103></a>\n",
    "### 1.2.1 Simple statistical methods\n",
    "\n",
    "The simplest approach to identifying irregularities in data is to flag the data points that deviate from common **statistical properties of a distribution**, including mean, median, mode, and quantiles.<br>\n",
    "- Let's say the definition of an anomalous data point is **one that deviates by a certain standard deviation from the mean**.\n",
    "- **Traversing mean** over time-series data isn't exactly trivial, as it's not static. \n",
    "- You would need a **rolling window** to compute the average across the data points. \n",
    "- Technically, this is called a **rolling average or a moving average**, and it's intended to smooth short-term fluctuations and highlight long-term ones. \n",
    "- Mathematically, an **n-period** simple moving average can also be defined as a \"low pass filter.\""
   ]
  },
  {
   "cell_type": "markdown",
   "metadata": {
    "colab_type": "text",
    "id": "SZpCdHczKexF"
   },
   "source": [
    "<img src = 'https://raw.githubusercontent.com/insaid2018/Term-4/master/images/anamoli_images/ana5.png'>"
   ]
  },
  {
   "cell_type": "markdown",
   "metadata": {
    "colab_type": "text",
    "id": "j99uMefaKexG"
   },
   "source": [
    "<a id=section104></a>\n",
    "### 1.2.2 Machine Learning Based Approach"
   ]
  },
  {
   "cell_type": "markdown",
   "metadata": {
    "colab_type": "text",
    "id": "lO3Z2fBtKexG"
   },
   "source": [
    "<a id=section105></a>\n",
    "#### 1.2.2.1 Density based Anomaly Detection\n",
    "\n",
    "Density-based anomaly detection is based on the __k-nearest neighbors__ algorithm.\n",
    "\n",
    "__Assumption__: Normal data points occur around a __dense neighborhood and abnormalities are far away__. \n",
    "\n",
    "The nearest set of data points are evaluated using a score, which could be Eucledian distance or a similar measure dependent on the type of the data (categorical or numerical). They could be broadly classified into two algorithms:<br>\n",
    "\n",
    "1. __K-nearest neighbor__: k-NN is a simple, non-parametric lazy learning technique used to classify data based on similarities in distance metrics such as Eucledian, Manhattan, Minkowski, or Hamming distance.\n",
    "2. __Relative density of data__: This is better known as __local outlier factor (LOF)__. This concept is based on a distance metric called reachability distance.<br>\n",
    "<img src = 'https://raw.githubusercontent.com/insaid2018/Term-4/master/images/anamoli_images/ana6.png'>"
   ]
  },
  {
   "cell_type": "markdown",
   "metadata": {
    "colab_type": "text",
    "id": "Bopd8jmqKexH"
   },
   "source": [
    "<a id=section106></a>\n",
    "#### 1.2.2.2 Clustering Based Anomaly Detection\n",
    "__Clustering__ is one of the most popular concepts in the domain of __unsupervised learning__.\n",
    "\n",
    "__Assumption__: Data points that are similar tend to belong to similar groups or clusters, as determined by their distance from local centroids.\n",
    "\n",
    "__K-means__ is a widely used clustering algorithm. It creates 'k' similar clusters of data points. Data instances that __fall outside__ of these groups could potentially be marked as anomalies.<br>\n",
    "<img src = 'https://raw.githubusercontent.com/insaid2018/Term-4/master/images/anamoli_images/ana.png'>"
   ]
  },
  {
   "cell_type": "markdown",
   "metadata": {
    "colab_type": "text",
    "id": "-MWConY4KexI"
   },
   "source": [
    "<a id=section107></a>\n",
    "#### 1.2.2.3 Support Vector Machine Based Anomaly Detection\n",
    "A support vector machine is another effective technique for detecting anomalies. \n",
    "- A SVM is typically associated with __supervised learning__, but there are _extensions (OneClassSVM, for instance) that can be used to identify anomalies as an unsupervised problems (in which training data are not labeled)_. \n",
    "- The algorithm learns a soft boundary in order to cluster the normal data instances using the training set, and then, using the testing instance, it **tunes itself to identify the abnormalities** that fall outside the learned region.<br>\n",
    "\n",
    "Depending on the use case, the output of an anomaly detector could be __numeric scalar values for filtering on domain-specific thresholds or textual labels (such as binary/multi labels)__.<br>\n",
    "<img src = 'https://raw.githubusercontent.com/insaid2018/Term-4/master/images/anamoli_images/ana7.png'>"
   ]
  },
  {
   "cell_type": "markdown",
   "metadata": {
    "colab_type": "text",
    "id": "W_dT8C3GKexI"
   },
   "source": [
    "<a id=section2></a>\n",
    "### 2. Use Case: Expedia\n",
    "\n",
    "- One of the **largest online travel** agency and powers search results fo **millions of travel shoppers** every day.\n",
    "- \"Hotel\" refers to hotels, apartments, B&Bs, hostels and other properties.\n",
    "- Room types are not distinguished and the **data can be assumed to apply to the least expensive room type**.\n",
    "- Most of the data are for searches that **resulted in a purchase**, but a small proportion are for **searches not leading to purchase.**\n",
    "\n",
    "| Column Name | Data Type | Description |\n",
    "| ------------ | --------- | ----------- |\n",
    "| date_time | Data/time | Date and time of the search |\n",
    "| price_usd | Float | Displayed price of the hotel for the given search |\n",
    "| srch_booking_window | Integer | Number of days on the future the hotel stay started fromt he search done|\n",
    "| srch_staurday_night_bool | Boolean | +1 if the stay includes a Saturday night |"
   ]
  },
  {
   "cell_type": "markdown",
   "metadata": {
    "colab_type": "text",
    "id": "4eyyZbABKexJ"
   },
   "source": [
    "### Importing required libraries"
   ]
  },
  {
   "cell_type": "code",
   "execution_count": 7,
   "metadata": {
    "ExecuteTime": {
     "end_time": "2019-10-22T12:07:25.967357Z",
     "start_time": "2019-10-22T12:07:23.487981Z"
    },
    "colab": {},
    "colab_type": "code",
    "id": "FHN73icFKexJ"
   },
   "outputs": [],
   "source": [
    "import numpy as np\n",
    "import pandas as pd\n",
    "import seaborn as sns\n",
    "import matplotlib.pyplot as plt\n",
    "from mpl_toolkits.mplot3d import Axes3D\n",
    "\n",
    "%matplotlib inline\n",
    "\n",
    "from sklearn import svm\n",
    "from sklearn.cluster import KMeans\n",
    "from sklearn.ensemble import IsolationForest\n",
    "from sklearn.preprocessing import StandardScaler\n",
    "\n",
    "import warnings\n",
    "warnings.filterwarnings('ignore')"
   ]
  },
  {
   "cell_type": "markdown",
   "metadata": {
    "colab_type": "text",
    "id": "Xw2FwM6YKexM"
   },
   "source": [
    "### Reading the data from github source"
   ]
  },
  {
   "cell_type": "code",
   "execution_count": 8,
   "metadata": {
    "ExecuteTime": {
     "end_time": "2019-10-22T12:07:27.053606Z",
     "start_time": "2019-10-22T12:07:25.9763Z"
    },
    "colab": {
     "base_uri": "https://localhost:8080/",
     "height": 195
    },
    "colab_type": "code",
    "id": "2G7ANnwNKexM",
    "outputId": "b86ee5ee-7c32-461d-eaa3-b712333cf527"
   },
   "outputs": [
    {
     "data": {
      "text/html": [
       "<div>\n",
       "<style scoped>\n",
       "    .dataframe tbody tr th:only-of-type {\n",
       "        vertical-align: middle;\n",
       "    }\n",
       "\n",
       "    .dataframe tbody tr th {\n",
       "        vertical-align: top;\n",
       "    }\n",
       "\n",
       "    .dataframe thead th {\n",
       "        text-align: right;\n",
       "    }\n",
       "</style>\n",
       "<table border=\"1\" class=\"dataframe\">\n",
       "  <thead>\n",
       "    <tr style=\"text-align: right;\">\n",
       "      <th></th>\n",
       "      <th>date_time</th>\n",
       "      <th>price_usd</th>\n",
       "      <th>srch_booking_window</th>\n",
       "      <th>srch_saturday_night_bool</th>\n",
       "    </tr>\n",
       "  </thead>\n",
       "  <tbody>\n",
       "    <tr>\n",
       "      <th>2605</th>\n",
       "      <td>2012-12-17 01:44:43</td>\n",
       "      <td>238.0</td>\n",
       "      <td>14</td>\n",
       "      <td>0</td>\n",
       "    </tr>\n",
       "    <tr>\n",
       "      <th>1894</th>\n",
       "      <td>2013-06-04 00:08:14</td>\n",
       "      <td>130.0</td>\n",
       "      <td>24</td>\n",
       "      <td>1</td>\n",
       "    </tr>\n",
       "    <tr>\n",
       "      <th>2449</th>\n",
       "      <td>2012-11-28 20:24:05</td>\n",
       "      <td>80.0</td>\n",
       "      <td>3</td>\n",
       "      <td>1</td>\n",
       "    </tr>\n",
       "    <tr>\n",
       "      <th>647</th>\n",
       "      <td>2013-04-23 15:30:38</td>\n",
       "      <td>174.0</td>\n",
       "      <td>9</td>\n",
       "      <td>1</td>\n",
       "    </tr>\n",
       "    <tr>\n",
       "      <th>2534</th>\n",
       "      <td>2013-01-10 15:14:16</td>\n",
       "      <td>99.0</td>\n",
       "      <td>15</td>\n",
       "      <td>1</td>\n",
       "    </tr>\n",
       "  </tbody>\n",
       "</table>\n",
       "</div>"
      ],
      "text/plain": [
       "                date_time  price_usd  srch_booking_window  \\\n",
       "2605  2012-12-17 01:44:43      238.0                   14   \n",
       "1894  2013-06-04 00:08:14      130.0                   24   \n",
       "2449  2012-11-28 20:24:05       80.0                    3   \n",
       "647   2013-04-23 15:30:38      174.0                    9   \n",
       "2534  2013-01-10 15:14:16       99.0                   15   \n",
       "\n",
       "      srch_saturday_night_bool  \n",
       "2605                         0  \n",
       "1894                         1  \n",
       "2449                         1  \n",
       "647                          1  \n",
       "2534                         1  "
      ]
     },
     "execution_count": 8,
     "metadata": {},
     "output_type": "execute_result"
    }
   ],
   "source": [
    "#df = pd.read_csv('https://raw.githubusercontent.com/amity1415/eKeeda/main/Rawdata/train.csv')\n",
    "df= pd.read_csv('train.csv')\n",
    "df.sample(5)"
   ]
  },
  {
   "cell_type": "markdown",
   "metadata": {
    "colab_type": "text",
    "id": "KbG2gHcmKexP"
   },
   "source": [
    "<a id=section3></a>\n",
    "### 3. Data Exploration and preprocessing"
   ]
  },
  {
   "cell_type": "code",
   "execution_count": 9,
   "metadata": {
    "ExecuteTime": {
     "end_time": "2019-10-22T12:07:27.066591Z",
     "start_time": "2019-10-22T12:07:27.0556Z"
    },
    "colab": {
     "base_uri": "https://localhost:8080/",
     "height": 168
    },
    "colab_type": "code",
    "id": "vndTfv8HKexQ",
    "outputId": "49a002ae-cd35-479e-c4b9-e40888e05498"
   },
   "outputs": [
    {
     "name": "stdout",
     "output_type": "stream",
     "text": [
      "<class 'pandas.core.frame.DataFrame'>\n",
      "RangeIndex: 3049 entries, 0 to 3048\n",
      "Data columns (total 4 columns):\n",
      " #   Column                    Non-Null Count  Dtype  \n",
      "---  ------                    --------------  -----  \n",
      " 0   date_time                 3049 non-null   object \n",
      " 1   price_usd                 3049 non-null   float64\n",
      " 2   srch_booking_window       3049 non-null   int64  \n",
      " 3   srch_saturday_night_bool  3049 non-null   int64  \n",
      "dtypes: float64(1), int64(2), object(1)\n",
      "memory usage: 95.4+ KB\n"
     ]
    }
   ],
   "source": [
    "df.info()"
   ]
  },
  {
   "cell_type": "code",
   "execution_count": 10,
   "metadata": {},
   "outputs": [
    {
     "data": {
      "text/plain": [
       "count    3049.000000\n",
       "mean      112.939023\n",
       "std       113.374049\n",
       "min         0.120000\n",
       "25%        67.000000\n",
       "50%       100.000000\n",
       "75%       141.000000\n",
       "max      5584.000000\n",
       "Name: price_usd, dtype: float64"
      ]
     },
     "execution_count": 10,
     "metadata": {},
     "output_type": "execute_result"
    }
   ],
   "source": [
    "df['price_usd'].describe()"
   ]
  },
  {
   "cell_type": "code",
   "execution_count": 11,
   "metadata": {
    "ExecuteTime": {
     "end_time": "2019-10-22T12:07:27.094496Z",
     "start_time": "2019-10-22T12:07:27.068529Z"
    },
    "colab": {
     "base_uri": "https://localhost:8080/",
     "height": 168
    },
    "colab_type": "code",
    "id": "HWVzvrnOKexS",
    "outputId": "af8ec000-6487-4882-b6f5-a8909a7e6ba2"
   },
   "outputs": [
    {
     "data": {
      "text/plain": [
       "<AxesSubplot:ylabel='Density'>"
      ]
     },
     "execution_count": 11,
     "metadata": {},
     "output_type": "execute_result"
    },
    {
     "data": {
      "image/png": "[encoded data removed]",
      "text/plain": [
       "<Figure size 432x288 with 1 Axes>"
      ]
     },
     "metadata": {
      "needs_background": "light"
     },
     "output_type": "display_data"
    }
   ],
   "source": [
    "df['price_usd'].plot(kind='kde')"
   ]
  },
  {
   "cell_type": "markdown",
   "metadata": {
    "colab_type": "text",
    "id": "cEIBj9lMKexU"
   },
   "source": [
    "#### Observation\n",
    "- Here, we have detected one extreme anomaly which was the **Max price_usd at 5584**.\n",
    "\n",
    "- If an individual data instance can be considered as anomalous w.r.t the rest of the data, we call it **Point Anomalies**. \n",
    "- We could go back to check the log to see what was it about.\n",
    "- It was either a **mistake or user searched a presidential suite by accident** and had no intention to book or view. "
   ]
  },
  {
   "cell_type": "code",
   "execution_count": 12,
   "metadata": {
    "ExecuteTime": {
     "end_time": "2019-10-22T12:07:27.175918Z",
     "start_time": "2019-10-22T12:07:27.096455Z"
    },
    "colab": {
     "base_uri": "https://localhost:8080/",
     "height": 47
    },
    "colab_type": "code",
    "id": "7NaKkHsBKexV",
    "outputId": "474593b0-823b-44ce-bef8-6660605ba954"
   },
   "outputs": [
    {
     "data": {
      "text/html": [
       "<div>\n",
       "<style scoped>\n",
       "    .dataframe tbody tr th:only-of-type {\n",
       "        vertical-align: middle;\n",
       "    }\n",
       "\n",
       "    .dataframe tbody tr th {\n",
       "        vertical-align: top;\n",
       "    }\n",
       "\n",
       "    .dataframe thead th {\n",
       "        text-align: right;\n",
       "    }\n",
       "</style>\n",
       "<table border=\"1\" class=\"dataframe\">\n",
       "  <thead>\n",
       "    <tr style=\"text-align: right;\">\n",
       "      <th></th>\n",
       "      <th>date_time</th>\n",
       "      <th>price_usd</th>\n",
       "      <th>srch_booking_window</th>\n",
       "      <th>srch_saturday_night_bool</th>\n",
       "    </tr>\n",
       "  </thead>\n",
       "  <tbody>\n",
       "    <tr>\n",
       "      <th>932</th>\n",
       "      <td>2013-04-07 20:59:07</td>\n",
       "      <td>5584.0</td>\n",
       "      <td>13</td>\n",
       "      <td>0</td>\n",
       "    </tr>\n",
       "  </tbody>\n",
       "</table>\n",
       "</div>"
      ],
      "text/plain": [
       "               date_time  price_usd  srch_booking_window  \\\n",
       "932  2013-04-07 20:59:07     5584.0                   13   \n",
       "\n",
       "     srch_saturday_night_bool  \n",
       "932                         0  "
      ]
     },
     "execution_count": 12,
     "metadata": {},
     "output_type": "execute_result"
    }
   ],
   "source": [
    "df.loc[(df['price_usd']==5584)]"
   ]
  },
  {
   "cell_type": "code",
   "execution_count": 13,
   "metadata": {
    "ExecuteTime": {
     "end_time": "2019-10-22T12:07:27.203844Z",
     "start_time": "2019-10-22T12:07:27.177911Z"
    },
    "colab": {},
    "colab_type": "code",
    "id": "CtB1WX2XKexX"
   },
   "outputs": [
    {
     "data": {
      "text/html": [
       "<div>\n",
       "<style scoped>\n",
       "    .dataframe tbody tr th:only-of-type {\n",
       "        vertical-align: middle;\n",
       "    }\n",
       "\n",
       "    .dataframe tbody tr th {\n",
       "        vertical-align: top;\n",
       "    }\n",
       "\n",
       "    .dataframe thead th {\n",
       "        text-align: right;\n",
       "    }\n",
       "</style>\n",
       "<table border=\"1\" class=\"dataframe\">\n",
       "  <thead>\n",
       "    <tr style=\"text-align: right;\">\n",
       "      <th></th>\n",
       "      <th>price_usd</th>\n",
       "      <th>srch_booking_window</th>\n",
       "      <th>srch_saturday_night_bool</th>\n",
       "    </tr>\n",
       "  </thead>\n",
       "  <tbody>\n",
       "    <tr>\n",
       "      <th>count</th>\n",
       "      <td>3048.000000</td>\n",
       "      <td>3048.000000</td>\n",
       "      <td>3048.000000</td>\n",
       "    </tr>\n",
       "    <tr>\n",
       "      <th>mean</th>\n",
       "      <td>111.144055</td>\n",
       "      <td>37.090551</td>\n",
       "      <td>0.524606</td>\n",
       "    </tr>\n",
       "    <tr>\n",
       "      <th>std</th>\n",
       "      <td>55.055161</td>\n",
       "      <td>46.165784</td>\n",
       "      <td>0.499476</td>\n",
       "    </tr>\n",
       "    <tr>\n",
       "      <th>min</th>\n",
       "      <td>0.120000</td>\n",
       "      <td>0.000000</td>\n",
       "      <td>0.000000</td>\n",
       "    </tr>\n",
       "    <tr>\n",
       "      <th>25%</th>\n",
       "      <td>67.000000</td>\n",
       "      <td>6.000000</td>\n",
       "      <td>0.000000</td>\n",
       "    </tr>\n",
       "    <tr>\n",
       "      <th>50%</th>\n",
       "      <td>100.000000</td>\n",
       "      <td>20.000000</td>\n",
       "      <td>1.000000</td>\n",
       "    </tr>\n",
       "    <tr>\n",
       "      <th>75%</th>\n",
       "      <td>141.000000</td>\n",
       "      <td>48.000000</td>\n",
       "      <td>1.000000</td>\n",
       "    </tr>\n",
       "    <tr>\n",
       "      <th>max</th>\n",
       "      <td>536.000000</td>\n",
       "      <td>292.000000</td>\n",
       "      <td>1.000000</td>\n",
       "    </tr>\n",
       "  </tbody>\n",
       "</table>\n",
       "</div>"
      ],
      "text/plain": [
       "         price_usd  srch_booking_window  srch_saturday_night_bool\n",
       "count  3048.000000          3048.000000               3048.000000\n",
       "mean    111.144055            37.090551                  0.524606\n",
       "std      55.055161            46.165784                  0.499476\n",
       "min       0.120000             0.000000                  0.000000\n",
       "25%      67.000000             6.000000                  0.000000\n",
       "50%     100.000000            20.000000                  1.000000\n",
       "75%     141.000000            48.000000                  1.000000\n",
       "max     536.000000           292.000000                  1.000000"
      ]
     },
     "execution_count": 13,
     "metadata": {},
     "output_type": "execute_result"
    }
   ],
   "source": [
    " df = df.loc[df['price_usd']<537]\n",
    "df.describe()"
   ]
  },
  {
   "cell_type": "markdown",
   "metadata": {
    "colab_type": "text",
    "id": "lnlgGYR1KexZ"
   },
   "source": [
    "#### Observation:\n",
    "- We need to understand what room type a user searched for.\n",
    "- The price for a standard room could be very different with the price for a King bed room with Ocean View."
   ]
  },
  {
   "cell_type": "markdown",
   "metadata": {
    "colab_type": "text",
    "id": "Yjwc_hV8KexZ"
   },
   "source": [
    "<a id=section4></a>\n",
    "## 4. Exploratory Data Analysis"
   ]
  },
  {
   "cell_type": "code",
   "execution_count": 14,
   "metadata": {
    "ExecuteTime": {
     "end_time": "2019-10-22T12:07:27.442264Z",
     "start_time": "2019-10-22T12:07:27.206835Z"
    },
    "colab": {
     "base_uri": "https://localhost:8080/",
     "height": 404
    },
    "colab_type": "code",
    "id": "VW6J8K_NKexa",
    "outputId": "0347fe12-d3e5-487b-af79-44e91b07ed36"
   },
   "outputs": [
    {
     "data": {
      "image/png": "[encoded data removed]",
      "text/plain": [
       "<Figure size 864x432 with 1 Axes>"
      ]
     },
     "metadata": {
      "needs_background": "light"
     },
     "output_type": "display_data"
    }
   ],
   "source": [
    "df.plot(x='date_time',y='price_usd', figsize=(12,6))\n",
    "plt.xlabel('Date time')\n",
    "plt.ylabel('Price in USD')\n",
    "plt.title('Time Series of room price by date time of search');"
   ]
  },
  {
   "cell_type": "code",
   "execution_count": 15,
   "metadata": {
    "ExecuteTime": {
     "end_time": "2019-10-22T12:07:27.718224Z",
     "start_time": "2019-10-22T12:07:27.445198Z"
    },
    "colab": {
     "base_uri": "https://localhost:8080/",
     "height": 392
    },
    "colab_type": "code",
    "id": "4zC0VLvCKexc",
    "outputId": "946383e6-e60d-4ede-a0a9-4d65afb2fde4"
   },
   "outputs": [
    {
     "data": {
      "image/png": "[encoded data removed]",
      "text/plain": [
       "<Figure size 720x432 with 1 Axes>"
      ]
     },
     "metadata": {
      "needs_background": "light"
     },
     "output_type": "display_data"
    }
   ],
   "source": [
    "a= df.loc[df['srch_saturday_night_bool']==0, 'price_usd']\n",
    "b= df.loc[df['srch_saturday_night_bool']==1, 'price_usd']\n",
    "plt.figure(figsize=(10,6))\n",
    "plt.hist(a,bins=50, alpha=0.5, label='Search Non-Sat Night')\n",
    "plt.hist(b, bins=50, alpha=0.5, label='Search Sat Night')\n",
    "plt.legend(loc='upper right')\n",
    "plt.xlabel('Price')\n",
    "plt.ylabel('Count')\n",
    "plt.show();"
   ]
  },
  {
   "cell_type": "markdown",
   "metadata": {
    "colab_type": "text",
    "id": "9SM5hR-cKexe"
   },
   "source": [
    "#### Observation:\n",
    "- The price is more stable and lower when searching Non-Saturday night. \n",
    "- The price goes up when searching Saturday night. Seems this property gets popular during the weekend."
   ]
  },
  {
   "cell_type": "markdown",
   "metadata": {
    "colab_type": "text",
    "id": "mIdcJYspKexe"
   },
   "source": [
    "<a id=section5></a>\n",
    "### 5. Model Prediction"
   ]
  },
  {
   "cell_type": "markdown",
   "metadata": {
    "colab_type": "text",
    "id": "ynsIzs2HKexf"
   },
   "source": [
    "<a id=section501></a>\n",
    "### 5.1 Clustering based Anomaly Detection\n",
    "#### k-means algorithm"
   ]
  },
  {
   "cell_type": "code",
   "execution_count": 16,
   "metadata": {
    "ExecuteTime": {
     "end_time": "2019-10-22T12:07:30.763695Z",
     "start_time": "2019-10-22T12:07:27.72022Z"
    },
    "colab": {
     "base_uri": "https://localhost:8080/",
     "height": 404
    },
    "colab_type": "code",
    "id": "KxuZvjUZKexg",
    "outputId": "58c0f36c-abf7-4121-df8e-31d2e1827d32"
   },
   "outputs": [],
   "source": [
    "dat = df[['price_usd', 'srch_booking_window','srch_saturday_night_bool']]\n",
    "n_cluster= range(1, 20)\n",
    "kmeans = [KMeans(n_clusters=i).fit(dat) for i in n_cluster]\n",
    "scores = [kmeans[i].score(dat) for i in range(len(kmeans))]"
   ]
  },
  {
   "cell_type": "markdown",
   "metadata": {
    "colab_type": "text",
    "id": "ECkmrbRAR6_M"
   },
   "source": [
    "### Visualize the elbow curve"
   ]
  },
  {
   "cell_type": "code",
   "execution_count": 17,
   "metadata": {
    "ExecuteTime": {
     "end_time": "2019-10-22T12:07:30.896343Z",
     "start_time": "2019-10-22T12:07:30.765689Z"
    },
    "colab": {},
    "colab_type": "code",
    "id": "wZzdppZcRyyv"
   },
   "outputs": [
    {
     "data": {
      "image/png": "[encoded data removed]",
      "text/plain": [
       "<Figure size 720x432 with 1 Axes>"
      ]
     },
     "metadata": {
      "needs_background": "light"
     },
     "output_type": "display_data"
    }
   ],
   "source": [
    "fig, ax = plt.subplots(figsize=(10,6))\n",
    "ax.plot(n_cluster, scores)\n",
    "plt.xlabel('Number of Clusters')\n",
    "plt.ylabel('Score')\n",
    "plt.title('Elbow Curve')\n",
    "plt.show();"
   ]
  },
  {
   "cell_type": "markdown",
   "metadata": {
    "colab_type": "text",
    "id": "lkxFVVrnKexi"
   },
   "source": [
    "#### Observation:\n",
    "- We see the graph levels off after 11 clusters.\n",
    "- This means that addition of more clusters do not explain much more of the variance in our relevant variable; in this case price_usd."
   ]
  },
  {
   "cell_type": "markdown",
   "metadata": {},
   "source": [
    "**Setting n_clusters=11, and upon generating the k-means output use the data to plot the 3D clusters.**"
   ]
  },
  {
   "cell_type": "code",
   "execution_count": 18,
   "metadata": {
    "ExecuteTime": {
     "end_time": "2019-10-22T12:07:31.732823Z",
     "start_time": "2019-10-22T12:07:30.899333Z"
    },
    "colab": {
     "base_uri": "https://localhost:8080/",
     "height": 535
    },
    "colab_type": "code",
    "id": "k-PbmcnGKexi",
    "outputId": "e11d7992-8695-44be-fe47-f0ebfc0e15b8"
   },
   "outputs": [
    {
     "data": {
      "text/plain": [
       "array([2, 2, 0, ..., 0, 1, 3])"
      ]
     },
     "execution_count": 18,
     "metadata": {},
     "output_type": "execute_result"
    }
   ],
   "source": [
    "X= df[['price_usd','srch_booking_window','srch_saturday_night_bool']]\n",
    "X= X.reset_index(drop=True)\n",
    "km= KMeans(n_clusters=5)\n",
    "km.fit(X)\n",
    "km.predict(X)\n",
    "labels= km.labels_\n",
    "labels"
   ]
  },
  {
   "cell_type": "markdown",
   "metadata": {
    "colab_type": "text",
    "id": "_MKmug0TSGxP"
   },
   "source": [
    "### 3D Visualization between price_usd, srch_booking_window and srch_saturday_night_bool."
   ]
  },
  {
   "cell_type": "code",
   "execution_count": 19,
   "metadata": {
    "ExecuteTime": {
     "end_time": "2019-10-22T12:07:32.482781Z",
     "start_time": "2019-10-22T12:07:31.734781Z"
    },
    "colab": {},
    "colab_type": "code",
    "id": "HkunLuCWSHE1"
   },
   "outputs": [
    {
     "data": {
      "text/plain": [
       "Text(0.5, 0.92, 'K Means')"
      ]
     },
     "execution_count": 19,
     "metadata": {},
     "output_type": "execute_result"
    },
    {
     "data": {
      "image/png": "[encoded data removed]",
      "text/plain": [
       "<Figure size 504x504 with 1 Axes>"
      ]
     },
     "metadata": {
      "needs_background": "light"
     },
     "output_type": "display_data"
    }
   ],
   "source": [
    "fig= plt.figure(1, figsize=(7,7))\n",
    "ax= Axes3D(fig, rect=[0,0,0.95,1], elev=48, azim=134)\n",
    "ax.scatter(X.iloc[:,0], X.iloc[:,1], X.iloc[:,2],\n",
    "          c=labels.astype(np.float), edgecolor=\"k\")\n",
    "ax.set_xlabel(\"price_usd\")\n",
    "ax.set_ylabel(\"srch_booking_window\")\n",
    "ax.set_zlabel(\"srch_saturday_night_bool\")\n",
    "plt.title(\"K Means\", fontsize=14)"
   ]
  },
  {
   "cell_type": "markdown",
   "metadata": {
    "colab_type": "text",
    "id": "hS-p7SKySf13"
   },
   "source": [
    "#### Standardization"
   ]
  },
  {
   "cell_type": "code",
   "execution_count": 20,
   "metadata": {
    "ExecuteTime": {
     "end_time": "2019-10-22T12:07:32.491756Z",
     "start_time": "2019-10-22T12:07:32.484776Z"
    },
    "colab": {
     "base_uri": "https://localhost:8080/",
     "height": 337
    },
    "colab_type": "code",
    "id": "fRPJ_3BZKexk",
    "outputId": "34cc7724-b712-4d99-9774-5211eaeeb94a"
   },
   "outputs": [
    {
     "data": {
      "text/plain": [
       "array([[206.,  99.,   1.],\n",
       "       [186.,   6.,   0.],\n",
       "       [ 61.,   1.,   0.],\n",
       "       ...,\n",
       "       [ 59.,  33.,   0.],\n",
       "       [ 71.,  59.,   0.],\n",
       "       [117.,  47.,   1.]])"
      ]
     },
     "execution_count": 20,
     "metadata": {},
     "output_type": "execute_result"
    }
   ],
   "source": [
    "# Perform standardization of the Independent Variables\n",
    "dt= df[['price_usd', 'srch_booking_window','srch_saturday_night_bool']]\n",
    "X = dt.values\n",
    "X"
   ]
  },
  {
   "cell_type": "code",
   "execution_count": 21,
   "metadata": {
    "ExecuteTime": {
     "end_time": "2019-10-22T12:07:33.157029Z",
     "start_time": "2019-10-22T12:07:32.494749Z"
    },
    "colab": {},
    "colab_type": "code",
    "id": "_4UVOBWsSVgA"
   },
   "outputs": [
    {
     "name": "stdout",
     "output_type": "stream",
     "text": [
      "[[ 1.72320828  1.34124457  0.95194084]\n",
      " [ 1.35987664 -0.67356492 -1.05048544]\n",
      " [-0.91094608 -0.78188801 -1.05048544]\n",
      " ...\n",
      " [-0.94727924 -0.08862023 -1.05048544]\n",
      " [-0.72928026  0.47465984 -1.05048544]\n",
      " [ 0.1063825   0.21468442  0.95194084]]\n",
      "[ 3.63663605e-16 -3.26364774e-17  9.67438436e-17]\n",
      "-----------\n",
      "[0.58031429 1.41350081 1.00716948]\n",
      "-----------\n",
      "[[-0.70329412 -0.70906231 -0.0510688 ]\n",
      " [-0.14526912  0.07302271  0.98669376]\n",
      " [ 0.69589817 -0.70135463  0.1543613 ]]\n"
     ]
    }
   ],
   "source": [
    "X_std = StandardScaler().fit_transform(X)\n",
    "mean_vec = np.mean(X_std, axis=0)\n",
    "print(X_std)\n",
    "print(mean_vec)\n",
    "cov_mat = np.cov(X_std.T)\n",
    "eig_vals, eig_vecs = np.linalg.eig(cov_mat)\n",
    "print('-----------')\n",
    "print(eig_vals)\n",
    "print('-----------')\n",
    "print(eig_vecs)"
   ]
  },
  {
   "cell_type": "code",
   "execution_count": 22,
   "metadata": {},
   "outputs": [
    {
     "data": {
      "text/plain": [
       "3"
      ]
     },
     "execution_count": 22,
     "metadata": {},
     "output_type": "execute_result"
    }
   ],
   "source": [
    "len(eig_vals)"
   ]
  },
  {
   "cell_type": "code",
   "execution_count": 23,
   "metadata": {},
   "outputs": [],
   "source": [
    "#eig_pairs = [(np.abs(eig_vals[i]), eig_vecs[:,i]) for i in range(len(eig_vals))]"
   ]
  },
  {
   "cell_type": "code",
   "execution_count": 24,
   "metadata": {},
   "outputs": [],
   "source": [
    "tot = sum(eig_vals)"
   ]
  },
  {
   "cell_type": "code",
   "execution_count": 25,
   "metadata": {},
   "outputs": [],
   "source": [
    "var_exp = [(i/tot)*100 for i in sorted(eig_vals, reverse=True)] # Individual Variance Explained\n",
    "cum_var_exp= np.cumsum(var_exp) # Cumulative Variance Explained."
   ]
  },
  {
   "cell_type": "code",
   "execution_count": 26,
   "metadata": {
    "ExecuteTime": {
     "end_time": "2019-10-22T12:07:33.297598Z",
     "start_time": "2019-10-22T12:07:33.158969Z"
    },
    "colab": {},
    "colab_type": "code",
    "id": "hsupNNNuSVsX"
   },
   "outputs": [
    {
     "name": "stdout",
     "output_type": "stream",
     "text": [
      "[47.10123543106117, 33.56130143731031, 19.33746313162852]\n",
      "[ 47.10123543  80.66253687 100.        ]\n"
     ]
    }
   ],
   "source": [
    "print(var_exp)\n",
    "print(cum_var_exp)"
   ]
  },
  {
   "cell_type": "code",
   "execution_count": null,
   "metadata": {},
   "outputs": [],
   "source": []
  },
  {
   "cell_type": "markdown",
   "metadata": {
    "colab_type": "text",
    "id": "LxHsFBLCSMXq"
   },
   "source": [
    "### Visualizing the variance explained by each components"
   ]
  },
  {
   "cell_type": "code",
   "execution_count": 27,
   "metadata": {
    "ExecuteTime": {
     "end_time": "2019-10-22T12:07:33.438222Z",
     "start_time": "2019-10-22T12:07:33.299593Z"
    },
    "colab": {},
    "colab_type": "code",
    "id": "NAYUKSy8SMob"
   },
   "outputs": [
    {
     "data": {
      "image/png": "[encoded data removed]",
      "text/plain": [
       "<Figure size 720x360 with 1 Axes>"
      ]
     },
     "metadata": {
      "needs_background": "light"
     },
     "output_type": "display_data"
    }
   ],
   "source": [
    "plt.figure(figsize=(10,5))\n",
    "plt.bar(range(len(var_exp)), var_exp, alpha=.3, align='center',label='individual explained variance', color='g' )\n",
    "plt.step(range(len(var_exp)),cum_var_exp, where='mid' , label='cumulative explained variance')\n",
    "plt.ylabel('Explained Variance Ratio')\n",
    "plt.xlabel('Principal Components')\n",
    "plt.legend(loc='best')\n",
    "plt.show()"
   ]
  },
  {
   "cell_type": "markdown",
   "metadata": {
    "colab_type": "text",
    "id": "26wGc25xKexn"
   },
   "source": [
    "#### Observation\n",
    "- First component explains almost 50% of the variance. \n",
    "- Second component explains over 30%.\n",
    "- Notice that almost none of the components are really negligible. \n",
    "- The first 2 components contain over 80% of the information. So, we will set n_components=2."
   ]
  },
  {
   "cell_type": "markdown",
   "metadata": {
    "colab_type": "text",
    "id": "Wcerp6E3Kexo"
   },
   "source": [
    "#### Assumptions\n",
    "- If we cluster the data, normal data will belong to clusters while **anomalies will not belong to any clusters** or belong to small clusters. \n",
    "- We use the following steps to find and visualize anomalies."
   ]
  },
  {
   "cell_type": "markdown",
   "metadata": {
    "colab_type": "text",
    "id": "rzHx3QrxKexp"
   },
   "source": [
    "#### Steps\n",
    "- Calculate the distance between **each point and its nearest centroid**. The biggest distances are considered as anomaly.\n",
    "- We use **outliers_fraction** to provide information to the algorithm about the proportion of the outliers present in our data set.\n",
    "- Calculate **number_of_outliers** using outliers_fraction.\n",
    "- Set threshold as the **minimum distance** of these outliers.\n",
    "- The anomaly result of anomaly1 contains the above **method Cluster (0:normal, 1:anomaly).**\n",
    "- Visualize anomalies with Time Series view."
   ]
  },
  {
   "cell_type": "markdown",
   "metadata": {},
   "source": [
    "### Resetting the index to make the data ordered."
   ]
  },
  {
   "cell_type": "code",
   "execution_count": 28,
   "metadata": {
    "ExecuteTime": {
     "end_time": "2019-10-22T12:07:33.444244Z",
     "start_time": "2019-10-22T12:07:33.440218Z"
    },
    "colab": {},
    "colab_type": "code",
    "id": "dpCtFQRYKexq"
   },
   "outputs": [
    {
     "data": {
      "text/html": [
       "<div>\n",
       "<style scoped>\n",
       "    .dataframe tbody tr th:only-of-type {\n",
       "        vertical-align: middle;\n",
       "    }\n",
       "\n",
       "    .dataframe tbody tr th {\n",
       "        vertical-align: top;\n",
       "    }\n",
       "\n",
       "    .dataframe thead th {\n",
       "        text-align: right;\n",
       "    }\n",
       "</style>\n",
       "<table border=\"1\" class=\"dataframe\">\n",
       "  <thead>\n",
       "    <tr style=\"text-align: right;\">\n",
       "      <th></th>\n",
       "      <th>price_usd</th>\n",
       "      <th>srch_booking_window</th>\n",
       "      <th>srch_saturday_night_bool</th>\n",
       "    </tr>\n",
       "  </thead>\n",
       "  <tbody>\n",
       "    <tr>\n",
       "      <th>0</th>\n",
       "      <td>206.0</td>\n",
       "      <td>99</td>\n",
       "      <td>1</td>\n",
       "    </tr>\n",
       "    <tr>\n",
       "      <th>1</th>\n",
       "      <td>186.0</td>\n",
       "      <td>6</td>\n",
       "      <td>0</td>\n",
       "    </tr>\n",
       "    <tr>\n",
       "      <th>2</th>\n",
       "      <td>61.0</td>\n",
       "      <td>1</td>\n",
       "      <td>0</td>\n",
       "    </tr>\n",
       "    <tr>\n",
       "      <th>3</th>\n",
       "      <td>72.0</td>\n",
       "      <td>116</td>\n",
       "      <td>0</td>\n",
       "    </tr>\n",
       "    <tr>\n",
       "      <th>4</th>\n",
       "      <td>246.0</td>\n",
       "      <td>245</td>\n",
       "      <td>0</td>\n",
       "    </tr>\n",
       "    <tr>\n",
       "      <th>...</th>\n",
       "      <td>...</td>\n",
       "      <td>...</td>\n",
       "      <td>...</td>\n",
       "    </tr>\n",
       "    <tr>\n",
       "      <th>3043</th>\n",
       "      <td>107.0</td>\n",
       "      <td>30</td>\n",
       "      <td>1</td>\n",
       "    </tr>\n",
       "    <tr>\n",
       "      <th>3044</th>\n",
       "      <td>81.0</td>\n",
       "      <td>73</td>\n",
       "      <td>0</td>\n",
       "    </tr>\n",
       "    <tr>\n",
       "      <th>3045</th>\n",
       "      <td>59.0</td>\n",
       "      <td>33</td>\n",
       "      <td>0</td>\n",
       "    </tr>\n",
       "    <tr>\n",
       "      <th>3046</th>\n",
       "      <td>71.0</td>\n",
       "      <td>59</td>\n",
       "      <td>0</td>\n",
       "    </tr>\n",
       "    <tr>\n",
       "      <th>3047</th>\n",
       "      <td>117.0</td>\n",
       "      <td>47</td>\n",
       "      <td>1</td>\n",
       "    </tr>\n",
       "  </tbody>\n",
       "</table>\n",
       "<p>3048 rows × 3 columns</p>\n",
       "</div>"
      ],
      "text/plain": [
       "      price_usd  srch_booking_window  srch_saturday_night_bool\n",
       "0         206.0                   99                         1\n",
       "1         186.0                    6                         0\n",
       "2          61.0                    1                         0\n",
       "3          72.0                  116                         0\n",
       "4         246.0                  245                         0\n",
       "...         ...                  ...                       ...\n",
       "3043      107.0                   30                         1\n",
       "3044       81.0                   73                         0\n",
       "3045       59.0                   33                         0\n",
       "3046       71.0                   59                         0\n",
       "3047      117.0                   47                         1\n",
       "\n",
       "[3048 rows x 3 columns]"
      ]
     },
     "metadata": {},
     "output_type": "display_data"
    }
   ],
   "source": [
    "dat.reset_index(drop=True, inplace=True)\n",
    "display(dat)"
   ]
  },
  {
   "cell_type": "markdown",
   "metadata": {
    "colab_type": "text",
    "id": "U9EmhtJmKext"
   },
   "source": [
    "#### Creating user-defined function to find the distance"
   ]
  },
  {
   "cell_type": "code",
   "execution_count": 29,
   "metadata": {
    "ExecuteTime": {
     "end_time": "2019-10-22T12:07:33.473139Z",
     "start_time": "2019-10-22T12:07:33.446202Z"
    },
    "colab": {},
    "colab_type": "code",
    "id": "KS1W91DoKexu"
   },
   "outputs": [],
   "source": [
    "def getDistanceByPoint(dt, model):\n",
    "    distance= pd.Series()\n",
    "    for i in range(0, len(dt)):\n",
    "        Xa = np.array(dt.loc[i])  #array([61., 1., 0.])\n",
    "        Xb = model.cluster_centers_[model.labels_[i]-1]\n",
    "        distance= distance.append(pd.Series(np.linalg.norm(Xa-Xb)), ignore_index= True)\n",
    "    return distance"
   ]
  },
  {
   "cell_type": "markdown",
   "metadata": {
    "colab_type": "text",
    "id": "YqF8ZI4bKexx"
   },
   "source": [
    "#### Defining outlier fraction and calculating distance"
   ]
  },
  {
   "cell_type": "code",
   "execution_count": 30,
   "metadata": {
    "ExecuteTime": {
     "end_time": "2019-10-22T12:07:34.601379Z",
     "start_time": "2019-10-22T12:07:33.475124Z"
    },
    "colab": {},
    "colab_type": "code",
    "id": "WK6MsVGrKexy",
    "scrolled": false
   },
   "outputs": [
    {
     "name": "stdout",
     "output_type": "stream",
     "text": [
      "0       113.590154\n",
      "1       117.772847\n",
      "2       130.303711\n",
      "3       243.830774\n",
      "4       254.719750\n",
      "           ...    \n",
      "3043     43.289235\n",
      "3044    220.943471\n",
      "3045    131.298425\n",
      "3046    227.597085\n",
      "3047     59.513815\n",
      "Length: 3048, dtype: float64\n"
     ]
    }
   ],
   "source": [
    "outliers_fraction = 0.01\n",
    "#get the distaice between each point and its nearest centroid. The biggest distances are considered anomaly.\n",
    "distance = getDistanceByPoint(dat, kmeans[5])\n",
    "print(distance)"
   ]
  },
  {
   "cell_type": "code",
   "execution_count": 34,
   "metadata": {},
   "outputs": [
    {
     "data": {
      "text/plain": [
       "30"
      ]
     },
     "execution_count": 34,
     "metadata": {},
     "output_type": "execute_result"
    }
   ],
   "source": [
    "number_of_outliers = int(outliers_fraction* len(distance))\n",
    "number_of_outliers"
   ]
  },
  {
   "cell_type": "code",
   "execution_count": 40,
   "metadata": {},
   "outputs": [
    {
     "data": {
      "text/plain": [
       "260.80111136705574"
      ]
     },
     "execution_count": 40,
     "metadata": {},
     "output_type": "execute_result"
    }
   ],
   "source": [
    "threshold= distance.nlargest(number_of_outliers).min()\n",
    "threshold"
   ]
  },
  {
   "cell_type": "code",
   "execution_count": 42,
   "metadata": {},
   "outputs": [
    {
     "data": {
      "text/plain": [
       "0       0\n",
       "1       0\n",
       "2       0\n",
       "3       0\n",
       "4       0\n",
       "       ..\n",
       "3043    0\n",
       "3044    0\n",
       "3045    0\n",
       "3046    0\n",
       "3047    0\n",
       "Length: 3048, dtype: int32"
      ]
     },
     "execution_count": 42,
     "metadata": {},
     "output_type": "execute_result"
    }
   ],
   "source": [
    "# Whereever the distance is greater than threshold, mark it as 1, else 0;\n",
    "(distance>=threshold).astype(int)"
   ]
  },
  {
   "cell_type": "markdown",
   "metadata": {
    "colab_type": "text",
    "id": "y0_txk7MKexz"
   },
   "source": [
    "#### Calculating the no. of outliers and threshold"
   ]
  },
  {
   "cell_type": "code",
   "execution_count": 44,
   "metadata": {
    "ExecuteTime": {
     "end_time": "2019-10-22T12:07:34.611087Z",
     "start_time": "2019-10-22T12:07:34.603109Z"
    },
    "colab": {},
    "colab_type": "code",
    "id": "NQsmlRm2Kex0"
   },
   "outputs": [],
   "source": [
    "number_of_outliers= int(outliers_fraction*len(distance))\n",
    "threshold= distance.nlargest(number_of_outliers).min()\n",
    "# anomaly contain the anomaly result of the above method Cluster( 0: Normal, 1: Anomaly)\n",
    "df['anomaly']= (distance>= threshold).astype(int)\n"
   ]
  },
  {
   "cell_type": "code",
   "execution_count": 46,
   "metadata": {
    "ExecuteTime": {
     "end_time": "2019-10-22T12:07:34.998152Z",
     "start_time": "2019-10-22T12:07:34.613082Z"
    },
    "colab": {
     "base_uri": "https://localhost:8080/",
     "height": 0
    },
    "colab_type": "code",
    "id": "QkDlQBapKex3",
    "outputId": "98521ca3-2eaa-4549-e123-84666ee9d92e"
   },
   "outputs": [
    {
     "data": {
      "text/html": [
       "<div>\n",
       "<style scoped>\n",
       "    .dataframe tbody tr th:only-of-type {\n",
       "        vertical-align: middle;\n",
       "    }\n",
       "\n",
       "    .dataframe tbody tr th {\n",
       "        vertical-align: top;\n",
       "    }\n",
       "\n",
       "    .dataframe thead th {\n",
       "        text-align: right;\n",
       "    }\n",
       "</style>\n",
       "<table border=\"1\" class=\"dataframe\">\n",
       "  <thead>\n",
       "    <tr style=\"text-align: right;\">\n",
       "      <th></th>\n",
       "      <th>date_time</th>\n",
       "      <th>price_usd</th>\n",
       "      <th>srch_booking_window</th>\n",
       "      <th>srch_saturday_night_bool</th>\n",
       "      <th>anomaly</th>\n",
       "    </tr>\n",
       "  </thead>\n",
       "  <tbody>\n",
       "    <tr>\n",
       "      <th>0</th>\n",
       "      <td>2013-03-14 11:27:28</td>\n",
       "      <td>206.0</td>\n",
       "      <td>99</td>\n",
       "      <td>1</td>\n",
       "      <td>0.0</td>\n",
       "    </tr>\n",
       "    <tr>\n",
       "      <th>1</th>\n",
       "      <td>2013-01-03 20:48:24</td>\n",
       "      <td>186.0</td>\n",
       "      <td>6</td>\n",
       "      <td>0</td>\n",
       "      <td>0.0</td>\n",
       "    </tr>\n",
       "    <tr>\n",
       "      <th>2</th>\n",
       "      <td>2013-01-19 16:51:27</td>\n",
       "      <td>61.0</td>\n",
       "      <td>1</td>\n",
       "      <td>0</td>\n",
       "      <td>0.0</td>\n",
       "    </tr>\n",
       "    <tr>\n",
       "      <th>3</th>\n",
       "      <td>2013-01-26 11:34:23</td>\n",
       "      <td>72.0</td>\n",
       "      <td>116</td>\n",
       "      <td>0</td>\n",
       "      <td>0.0</td>\n",
       "    </tr>\n",
       "    <tr>\n",
       "      <th>4</th>\n",
       "      <td>2013-04-29 09:39:50</td>\n",
       "      <td>246.0</td>\n",
       "      <td>245</td>\n",
       "      <td>0</td>\n",
       "      <td>0.0</td>\n",
       "    </tr>\n",
       "  </tbody>\n",
       "</table>\n",
       "</div>"
      ],
      "text/plain": [
       "             date_time  price_usd  srch_booking_window  \\\n",
       "0  2013-03-14 11:27:28      206.0                   99   \n",
       "1  2013-01-03 20:48:24      186.0                    6   \n",
       "2  2013-01-19 16:51:27       61.0                    1   \n",
       "3  2013-01-26 11:34:23       72.0                  116   \n",
       "4  2013-04-29 09:39:50      246.0                  245   \n",
       "\n",
       "   srch_saturday_night_bool  anomaly  \n",
       "0                         1      0.0  \n",
       "1                         0      0.0  \n",
       "2                         0      0.0  \n",
       "3                         0      0.0  \n",
       "4                         0      0.0  "
      ]
     },
     "execution_count": 46,
     "metadata": {},
     "output_type": "execute_result"
    }
   ],
   "source": [
    "df[:5]"
   ]
  },
  {
   "cell_type": "code",
   "execution_count": 48,
   "metadata": {
    "ExecuteTime": {
     "end_time": "2019-10-22T12:07:35.033251Z",
     "start_time": "2019-10-22T12:07:35.00011Z"
    },
    "colab": {},
    "colab_type": "code",
    "id": "wcEvPw8EKex4"
   },
   "outputs": [],
   "source": [
    "df = df.sort_values('date_time')\n",
    "a= df.loc[df['anomaly']==1, ['date_time','price_usd']] # anomaly records"
   ]
  },
  {
   "cell_type": "code",
   "execution_count": 49,
   "metadata": {},
   "outputs": [
    {
     "data": {
      "text/html": [
       "<div>\n",
       "<style scoped>\n",
       "    .dataframe tbody tr th:only-of-type {\n",
       "        vertical-align: middle;\n",
       "    }\n",
       "\n",
       "    .dataframe tbody tr th {\n",
       "        vertical-align: top;\n",
       "    }\n",
       "\n",
       "    .dataframe thead th {\n",
       "        text-align: right;\n",
       "    }\n",
       "</style>\n",
       "<table border=\"1\" class=\"dataframe\">\n",
       "  <thead>\n",
       "    <tr style=\"text-align: right;\">\n",
       "      <th></th>\n",
       "      <th>date_time</th>\n",
       "      <th>price_usd</th>\n",
       "    </tr>\n",
       "  </thead>\n",
       "  <tbody>\n",
       "    <tr>\n",
       "      <th>2322</th>\n",
       "      <td>2012-12-17 13:52:50</td>\n",
       "      <td>58.0</td>\n",
       "    </tr>\n",
       "    <tr>\n",
       "      <th>1494</th>\n",
       "      <td>2012-12-18 16:36:28</td>\n",
       "      <td>84.0</td>\n",
       "    </tr>\n",
       "    <tr>\n",
       "      <th>1914</th>\n",
       "      <td>2012-12-22 21:07:12</td>\n",
       "      <td>59.0</td>\n",
       "    </tr>\n",
       "    <tr>\n",
       "      <th>2609</th>\n",
       "      <td>2012-12-28 22:00:31</td>\n",
       "      <td>136.0</td>\n",
       "    </tr>\n",
       "    <tr>\n",
       "      <th>495</th>\n",
       "      <td>2012-12-31 08:25:26</td>\n",
       "      <td>425.0</td>\n",
       "    </tr>\n",
       "  </tbody>\n",
       "</table>\n",
       "</div>"
      ],
      "text/plain": [
       "                date_time  price_usd\n",
       "2322  2012-12-17 13:52:50       58.0\n",
       "1494  2012-12-18 16:36:28       84.0\n",
       "1914  2012-12-22 21:07:12       59.0\n",
       "2609  2012-12-28 22:00:31      136.0\n",
       "495   2012-12-31 08:25:26      425.0"
      ]
     },
     "execution_count": 49,
     "metadata": {},
     "output_type": "execute_result"
    }
   ],
   "source": [
    "a.head()"
   ]
  },
  {
   "cell_type": "markdown",
   "metadata": {
    "colab_type": "text",
    "id": "BTfvOxxfKex6"
   },
   "source": [
    "#### Variation of 'Price_USD' with 'date_time'"
   ]
  },
  {
   "cell_type": "code",
   "execution_count": 50,
   "metadata": {
    "ExecuteTime": {
     "end_time": "2019-10-22T12:07:35.215534Z",
     "start_time": "2019-10-22T12:07:35.038011Z"
    },
    "colab": {
     "base_uri": "https://localhost:8080/",
     "height": 0
    },
    "colab_type": "code",
    "id": "Tf6J5UBEKex8",
    "outputId": "9549a83e-4674-4e3a-e983-d8c5a687b441"
   },
   "outputs": [
    {
     "data": {
      "image/png": "[encoded data removed]",
      "text/plain": [
       "<Figure size 720x432 with 1 Axes>"
      ]
     },
     "metadata": {
      "needs_background": "light"
     },
     "output_type": "display_data"
    }
   ],
   "source": [
    "fig, ax = plt.subplots(figsize= (10,6))\n",
    "ax.plot(df['date_time'], df['price_usd'], color='blue', label='Normal')\n",
    "ax.scatter(a['date_time'],a['price_usd'], color='red', label='Anomaly')\n",
    "plt.xlabel('Date Time')\n",
    "plt.ylabel('price in USD')\n",
    "plt.legend()\n",
    "plt.show();"
   ]
  },
  {
   "cell_type": "markdown",
   "metadata": {
    "colab_type": "text",
    "id": "q_Kr3jjxKex-"
   },
   "source": [
    "<a id=section502></a>\n",
    "### 5.2 Isolation Forest for Anomaly Detection  [Documentation](https://scikit-learn.org/stable/modules/generated/sklearn.ensemble.IsolationForest.html)                                                                     "
   ]
  },
  {
   "cell_type": "markdown",
   "metadata": {
    "colab_type": "text",
    "id": "2HNFDuFRKex_"
   },
   "source": [
    "- They detects anomalies purely based on the fact that anomalies are data points that are different and few.\n",
    "- It has been implemented without employing any distance or density measure."
   ]
  },
  {
   "cell_type": "code",
   "execution_count": 53,
   "metadata": {
    "ExecuteTime": {
     "end_time": "2019-10-22T12:07:35.226505Z",
     "start_time": "2019-10-22T12:07:35.218526Z"
    },
    "colab": {},
    "colab_type": "code",
    "id": "3y5ok9hJKex_"
   },
   "outputs": [],
   "source": [
    "data= df[['price_usd', 'srch_booking_window', 'srch_saturday_night_bool']]\n",
    "scaler = StandardScaler()\n",
    "np_scaled =scaler.fit_transform(data)\n",
    "data= pd.DataFrame(np_scaled)"
   ]
  },
  {
   "cell_type": "markdown",
   "metadata": {
    "colab_type": "text",
    "id": "qLd_1rqiKeyC"
   },
   "source": [
    "#### Training Isolation model"
   ]
  },
  {
   "cell_type": "code",
   "execution_count": 54,
   "metadata": {
    "ExecuteTime": {
     "end_time": "2019-10-22T12:07:35.537709Z",
     "start_time": "2019-10-22T12:07:35.2285Z"
    },
    "colab": {},
    "colab_type": "code",
    "id": "Ucn77tDgKeyD"
   },
   "outputs": [
    {
     "data": {
      "text/html": [
       "<style>#sk-container-id-1 {color: black;background-color: white;}#sk-container-id-1 pre{padding: 0;}#sk-container-id-1 div.sk-toggleable {background-color: white;}#sk-container-id-1 label.sk-toggleable__label {cursor: pointer;display: block;width: 100%;margin-bottom: 0;padding: 0.3em;box-sizing: border-box;text-align: center;}#sk-container-id-1 label.sk-toggleable__label-arrow:before {content: \"▸\";float: left;margin-right: 0.25em;color: #696969;}#sk-container-id-1 label.sk-toggleable__label-arrow:hover:before {color: black;}#sk-container-id-1 div.sk-estimator:hover label.sk-toggleable__label-arrow:before {color: black;}#sk-container-id-1 div.sk-toggleable__content {max-height: 0;max-width: 0;overflow: hidden;text-align: left;background-color: #f0f8ff;}#sk-container-id-1 div.sk-toggleable__content pre {margin: 0.2em;color: black;border-radius: 0.25em;background-color: #f0f8ff;}#sk-container-id-1 input.sk-toggleable__control:checked~div.sk-toggleable__content {max-height: 200px;max-width: 100%;overflow: auto;}#sk-container-id-1 input.sk-toggleable__control:checked~label.sk-toggleable__label-arrow:before {content: \"▾\";}#sk-container-id-1 div.sk-estimator input.sk-toggleable__control:checked~label.sk-toggleable__label {background-color: #d4ebff;}#sk-container-id-1 div.sk-label input.sk-toggleable__control:checked~label.sk-toggleable__label {background-color: #d4ebff;}#sk-container-id-1 input.sk-hidden--visually {border: 0;clip: rect(1px 1px 1px 1px);clip: rect(1px, 1px, 1px, 1px);height: 1px;margin: -1px;overflow: hidden;padding: 0;position: absolute;width: 1px;}#sk-container-id-1 div.sk-estimator {font-family: monospace;background-color: #f0f8ff;border: 1px dotted black;border-radius: 0.25em;box-sizing: border-box;margin-bottom: 0.5em;}#sk-container-id-1 div.sk-estimator:hover {background-color: #d4ebff;}#sk-container-id-1 div.sk-parallel-item::after {content: \"\";width: 100%;border-bottom: 1px solid gray;flex-grow: 1;}#sk-container-id-1 div.sk-label:hover label.sk-toggleable__label {background-color: #d4ebff;}#sk-container-id-1 div.sk-serial::before {content: \"\";position: absolute;border-left: 1px solid gray;box-sizing: border-box;top: 0;bottom: 0;left: 50%;z-index: 0;}#sk-container-id-1 div.sk-serial {display: flex;flex-direction: column;align-items: center;background-color: white;padding-right: 0.2em;padding-left: 0.2em;position: relative;}#sk-container-id-1 div.sk-item {position: relative;z-index: 1;}#sk-container-id-1 div.sk-parallel {display: flex;align-items: stretch;justify-content: center;background-color: white;position: relative;}#sk-container-id-1 div.sk-item::before, #sk-container-id-1 div.sk-parallel-item::before {content: \"\";position: absolute;border-left: 1px solid gray;box-sizing: border-box;top: 0;bottom: 0;left: 50%;z-index: -1;}#sk-container-id-1 div.sk-parallel-item {display: flex;flex-direction: column;z-index: 1;position: relative;background-color: white;}#sk-container-id-1 div.sk-parallel-item:first-child::after {align-self: flex-end;width: 50%;}#sk-container-id-1 div.sk-parallel-item:last-child::after {align-self: flex-start;width: 50%;}#sk-container-id-1 div.sk-parallel-item:only-child::after {width: 0;}#sk-container-id-1 div.sk-dashed-wrapped {border: 1px dashed gray;margin: 0 0.4em 0.5em 0.4em;box-sizing: border-box;padding-bottom: 0.4em;background-color: white;}#sk-container-id-1 div.sk-label label {font-family: monospace;font-weight: bold;display: inline-block;line-height: 1.2em;}#sk-container-id-1 div.sk-label-container {text-align: center;}#sk-container-id-1 div.sk-container {/* jupyter's `normalize.less` sets `[hidden] { display: none; }` but bootstrap.min.css set `[hidden] { display: none !important; }` so we also need the `!important` here to be able to override the default hidden behavior on the sphinx rendered scikit-learn.org. See: https://github.com/scikit-learn/scikit-learn/issues/21755 */display: inline-block !important;position: relative;}#sk-container-id-1 div.sk-text-repr-fallback {display: none;}</style><div id=\"sk-container-id-1\" class=\"sk-top-container\"><div class=\"sk-text-repr-fallback\"><pre>IsolationForest(contamination=0.01)</pre><b>In a Jupyter environment, please rerun this cell to show the HTML representation or trust the notebook. <br />On GitHub, the HTML representation is unable to render, please try loading this page with nbviewer.org.</b></div><div class=\"sk-container\" hidden><div class=\"sk-item\"><div class=\"sk-estimator sk-toggleable\"><input class=\"sk-toggleable__control sk-hidden--visually\" id=\"sk-estimator-id-1\" type=\"checkbox\" checked><label for=\"sk-estimator-id-1\" class=\"sk-toggleable__label sk-toggleable__label-arrow\">IsolationForest</label><div class=\"sk-toggleable__content\"><pre>IsolationForest(contamination=0.01)</pre></div></div></div></div></div>"
      ],
      "text/plain": [
       "IsolationForest(contamination=0.01)"
      ]
     },
     "execution_count": 54,
     "metadata": {},
     "output_type": "execute_result"
    }
   ],
   "source": [
    "model_I = IsolationForest(contamination= outliers_fraction)\n",
    "model_I.fit(data)"
   ]
  },
  {
   "cell_type": "code",
   "execution_count": 56,
   "metadata": {},
   "outputs": [],
   "source": [
    "df['anomaly2']= pd.Series(model_I.predict(data))"
   ]
  },
  {
   "cell_type": "code",
   "execution_count": 57,
   "metadata": {},
   "outputs": [
    {
     "data": {
      "text/plain": [
       " 1.0    3016\n",
       "-1.0      31\n",
       "Name: anomaly2, dtype: int64"
      ]
     },
     "execution_count": 57,
     "metadata": {},
     "output_type": "execute_result"
    }
   ],
   "source": [
    "df['anomaly2'].value_counts()"
   ]
  },
  {
   "cell_type": "markdown",
   "metadata": {
    "colab_type": "text",
    "id": "jPZ4lA_LKeyG"
   },
   "source": [
    "#### Variation of 'Price_USD' with 'date_time'"
   ]
  },
  {
   "cell_type": "code",
   "execution_count": 61,
   "metadata": {
    "ExecuteTime": {
     "end_time": "2019-10-22T12:07:35.704228Z",
     "start_time": "2019-10-22T12:07:35.539667Z"
    },
    "colab": {
     "base_uri": "https://localhost:8080/",
     "height": 0
    },
    "colab_type": "code",
    "id": "Qd_SifW8KeyH",
    "outputId": "44c84f3c-fe4b-43bd-cbc2-dcb602b9d9cd"
   },
   "outputs": [
    {
     "data": {
      "image/png": "[encoded data removed]",
      "text/plain": [
       "<Figure size 720x432 with 1 Axes>"
      ]
     },
     "metadata": {
      "needs_background": "light"
     },
     "output_type": "display_data"
    }
   ],
   "source": [
    "fig, ax = plt.subplots(figsize=(10,6))\n",
    "a= df.loc[df['anomaly2']== -1, ['date_time','price_usd']] #anomaly\n",
    "\n",
    "ax.plot(df['date_time'], df['price_usd'], color='blue', label='Normal')\n",
    "ax.scatter(a['date_time'],a['price_usd'], color='red', label='Anomaly')\n",
    "plt.legend()\n",
    "plt.show()"
   ]
  },
  {
   "cell_type": "markdown",
   "metadata": {
    "colab_type": "text",
    "id": "MVOc2xmtKeyJ"
   },
   "source": [
    "<a id=section503></a>\n",
    "### 5.3 Support Vector Machines-Based Anomaly Detection: [Documentation](https://scikit-learn.org/stable/modules/generated/sklearn.svm.OneClassSVM.html)"
   ]
  },
  {
   "cell_type": "code",
   "execution_count": 64,
   "metadata": {
    "ExecuteTime": {
     "end_time": "2019-10-22T12:07:35.716196Z",
     "start_time": "2019-10-22T12:07:35.706222Z"
    },
    "colab": {},
    "colab_type": "code",
    "id": "ARfuV6ZBKeyJ"
   },
   "outputs": [],
   "source": [
    "data1= df[['price_usd','srch_booking_window','srch_saturday_night_bool']]\n",
    "scaler = StandardScaler()\n",
    "np_scaled= scaler.fit_transform(data1)\n",
    "data= pd.DataFrame(np_scaled)\n"
   ]
  },
  {
   "cell_type": "markdown",
   "metadata": {
    "colab_type": "text",
    "id": "9iHxF3XsKeyM"
   },
   "source": [
    "#### Training oneclassSVM"
   ]
  },
  {
   "cell_type": "code",
   "execution_count": 65,
   "metadata": {
    "ExecuteTime": {
     "end_time": "2019-10-22T12:07:35.880982Z",
     "start_time": "2019-10-22T12:07:35.718191Z"
    },
    "colab": {},
    "colab_type": "code",
    "id": "cGW2iu6ZKeyN"
   },
   "outputs": [],
   "source": [
    "model = svm.OneClassSVM(nu= outliers_fraction , kernel='rbf', gamma=0.01)\n",
    "model.fit(data)\n",
    "df['anomaly3'] = pd.Series(model.predict(data))"
   ]
  },
  {
   "cell_type": "markdown",
   "metadata": {
    "colab_type": "text",
    "id": "xUX2KVAaKeyO"
   },
   "source": [
    "#### Variation of 'Price_USD' with 'date_time'"
   ]
  },
  {
   "cell_type": "code",
   "execution_count": 66,
   "metadata": {
    "ExecuteTime": {
     "end_time": "2019-10-22T12:07:36.044726Z",
     "start_time": "2019-10-22T12:07:35.883747Z"
    },
    "colab": {
     "base_uri": "https://localhost:8080/",
     "height": 378
    },
    "colab_type": "code",
    "id": "DU8HnBSlKeyP",
    "outputId": "746e0dab-dc7a-4868-ec81-8faf8f4c5032"
   },
   "outputs": [
    {
     "data": {
      "image/png": "[encoded data removed]",
      "text/plain": [
       "<Figure size 720x432 with 1 Axes>"
      ]
     },
     "metadata": {
      "needs_background": "light"
     },
     "output_type": "display_data"
    }
   ],
   "source": [
    "fig, ax= plt.subplots(figsize=(10,6))\n",
    "a= df.loc[df['anomaly3']==-1, ['date_time','price_usd']] #Anomaly\n",
    "ax.plot(df['date_time'],df['price_usd'], color='blue', label='Normal')\n",
    "ax.scatter(a['date_time'], a['price_usd'], color='red', label='Anomaly')\n",
    "plt.show()\n",
    "             "
   ]
  },
  {
   "cell_type": "markdown",
   "metadata": {
    "colab_type": "text",
    "id": "6yt7jp6WKeyS"
   },
   "source": [
    "<a id=section6></a>\n",
    "### 6. Conclusion"
   ]
  },
  {
   "cell_type": "markdown",
   "metadata": {
    "colab_type": "text",
    "id": "3a3v52UzKeyT"
   },
   "source": [
    "- We applied 3 different methods.\n",
    "- Since anomaly is unsupervised, the results of these methods needs to be tested in the industry to place them in critical path."
   ]
  },
  {
   "cell_type": "code",
   "execution_count": null,
   "metadata": {},
   "outputs": [],
   "source": []
  }
 ],
 "metadata": {
  "colab": {
   "name": "Anomaly_Final.ipynb",
   "provenance": []
  },
  "hide_input": false,
  "kernelspec": {
   "display_name": "Python 3 (ipykernel)",
   "language": "python",
   "name": "python3"
  },
  "language_info": {
   "codemirror_mode": {
    "name": "ipython",
    "version": 3
   },
   "file_extension": ".py",
   "mimetype": "text/x-python",
   "name": "python",
   "nbconvert_exporter": "python",
   "pygments_lexer": "ipython3",
   "version": "3.9.12"
  },
  "toc": {
   "base_numbering": 1,
   "nav_menu": {},
   "number_sections": false,
   "sideBar": true,
   "skip_h1_title": false,
   "title_cell": "Table of Contents",
   "title_sidebar": "Contents",
   "toc_cell": false,
   "toc_position": {},
   "toc_section_display": true,
   "toc_window_display": false
  },
  "varInspector": {
   "cols": {
    "lenName": 16,
    "lenType": 16,
    "lenVar": 40
   },
   "kernels_config": {
    "python": {
     "delete_cmd_postfix": "",
     "delete_cmd_prefix": "del ",
     "library": "var_list.py",
     "varRefreshCmd": "print(var_dic_list())"
    },
    "r": {
     "delete_cmd_postfix": ") ",
     "delete_cmd_prefix": "rm(",
     "library": "var_list.r",
     "varRefreshCmd": "cat(var_dic_list()) "
    }
   },
   "types_to_exclude": [
    "module",
    "function",
    "builtin_function_or_method",
    "instance",
    "_Feature"
   ],
   "window_display": false
  }
 },
 "nbformat": 4,
 "nbformat_minor": 1
}
