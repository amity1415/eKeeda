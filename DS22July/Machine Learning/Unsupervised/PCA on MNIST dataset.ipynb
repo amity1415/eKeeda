{
 "cells": [
  {
   "cell_type": "code",
   "execution_count": 1,
   "metadata": {},
   "outputs": [],
   "source": [
    "#keep the file safe, we will try to use this same dataset to do image analysis.\n",
    "\n",
    "# ---- Regards, Amit"
   ]
  },
  {
   "cell_type": "code",
   "execution_count": 6,
   "metadata": {},
   "outputs": [
    {
     "name": "stdout",
     "output_type": "stream",
     "text": [
      "Requirement already satisfied: mlxtend in d:\\users\\aamit\\anaconda3\\lib\\site-packages (0.21.0)\n",
      "Requirement already satisfied: joblib>=0.13.2 in d:\\users\\aamit\\anaconda3\\lib\\site-packages (from mlxtend) (1.2.0)\n",
      "Requirement already satisfied: scikit-learn>=1.0.2 in d:\\users\\aamit\\anaconda3\\lib\\site-packages (from mlxtend) (1.1.3)\n",
      "Requirement already satisfied: numpy>=1.16.2 in d:\\users\\aamit\\anaconda3\\lib\\site-packages (from mlxtend) (1.21.5)\n",
      "Requirement already satisfied: matplotlib>=3.0.0 in d:\\users\\aamit\\anaconda3\\lib\\site-packages (from mlxtend) (3.5.1)\n",
      "Requirement already satisfied: setuptools in d:\\users\\aamit\\anaconda3\\lib\\site-packages (from mlxtend) (61.2.0)\n",
      "Requirement already satisfied: pandas>=0.24.2 in d:\\users\\aamit\\anaconda3\\lib\\site-packages (from mlxtend) (1.4.2)\n",
      "Requirement already satisfied: scipy>=1.2.1 in d:\\users\\aamit\\anaconda3\\lib\\site-packages (from mlxtend) (1.7.3)\n",
      "Requirement already satisfied: cycler>=0.10 in d:\\users\\aamit\\anaconda3\\lib\\site-packages (from matplotlib>=3.0.0->mlxtend) (0.11.0)\n",
      "Requirement already satisfied: kiwisolver>=1.0.1 in d:\\users\\aamit\\anaconda3\\lib\\site-packages (from matplotlib>=3.0.0->mlxtend) (1.3.2)\n",
      "Requirement already satisfied: fonttools>=4.22.0 in d:\\users\\aamit\\anaconda3\\lib\\site-packages (from matplotlib>=3.0.0->mlxtend) (4.25.0)\n",
      "Requirement already satisfied: python-dateutil>=2.7 in d:\\users\\aamit\\anaconda3\\lib\\site-packages (from matplotlib>=3.0.0->mlxtend) (2.8.2)\n",
      "Requirement already satisfied: pillow>=6.2.0 in d:\\users\\aamit\\anaconda3\\lib\\site-packages (from matplotlib>=3.0.0->mlxtend) (9.0.1)\n",
      "Requirement already satisfied: pyparsing>=2.2.1 in d:\\users\\aamit\\anaconda3\\lib\\site-packages (from matplotlib>=3.0.0->mlxtend) (3.0.4)\n",
      "Requirement already satisfied: packaging>=20.0 in d:\\users\\aamit\\anaconda3\\lib\\site-packages (from matplotlib>=3.0.0->mlxtend) (21.3)\n",
      "Requirement already satisfied: pytz>=2020.1 in d:\\users\\aamit\\anaconda3\\lib\\site-packages (from pandas>=0.24.2->mlxtend) (2021.3)\n",
      "Requirement already satisfied: six>=1.5 in d:\\users\\aamit\\anaconda3\\lib\\site-packages (from python-dateutil>=2.7->matplotlib>=3.0.0->mlxtend) (1.16.0)\n",
      "Requirement already satisfied: threadpoolctl>=2.0.0 in d:\\users\\aamit\\anaconda3\\lib\\site-packages (from scikit-learn>=1.0.2->mlxtend) (2.2.0)\n"
     ]
    }
   ],
   "source": [
    "!pip install mlxtend\n",
    "import sklearn\n",
    "import numpy as np\n",
    "import pandas as pd\n",
    "import matplotlib.pyplot as plt\n",
    "%matplotlib inline"
   ]
  },
  {
   "cell_type": "code",
   "execution_count": 37,
   "metadata": {},
   "outputs": [],
   "source": [
    "from mlxtend.data import loadlocal_mnist\n",
    "\n",
    "X, y = loadlocal_mnist(\n",
    "        images_path='train-images.idx3-ubyte', \n",
    "        labels_path='train-labels.idx1-ubyte')\n",
    "\n",
    "\n",
    "np.savetxt(fname='images.csv', \n",
    "           X=X, delimiter=',', fmt='%d')\n",
    "np.savetxt(fname='labels.csv', \n",
    "           X=y, delimiter=',', fmt='%d')"
   ]
  },
  {
   "cell_type": "code",
   "execution_count": 4,
   "metadata": {},
   "outputs": [],
   "source": [
    "#create the read_data file just by entering column names as X1 to X784 in excel and save it as image_data.csv\n",
    "# also upload the file in the jupyter notebook."
   ]
  },
  {
   "cell_type": "code",
   "execution_count": 38,
   "metadata": {
    "scrolled": true
   },
   "outputs": [
    {
     "name": "stdout",
     "output_type": "stream",
     "text": [
      "   0  0.1  0.2  0.3  0.4  0.5  0.6  0.7  0.8  0.9  ...  0.608  0.609  0.610  \\\n",
      "0  0    0    0    0    0    0    0    0    0    0  ...      0      0      0   \n",
      "1  0    0    0    0    0    0    0    0    0    0  ...      0      0      0   \n",
      "2  0    0    0    0    0    0    0    0    0    0  ...      0      0      0   \n",
      "3  0    0    0    0    0    0    0    0    0    0  ...      0      0      0   \n",
      "4  0    0    0    0    0    0    0    0    0    0  ...      0      0      0   \n",
      "\n",
      "   0.611  0.612  0.613  0.614  0.615  0.616  0.617  \n",
      "0      0      0      0      0      0      0      0  \n",
      "1      0      0      0      0      0      0      0  \n",
      "2      0      0      0      0      0      0      0  \n",
      "3      0      0      0      0      0      0      0  \n",
      "4      0      0      0      0      0      0      0  \n",
      "\n",
      "[5 rows x 784 columns]\n"
     ]
    }
   ],
   "source": [
    "data=pd.read_csv(\"images.csv\")\n",
    "print(data.head())\n",
    "#data.iloc[0,:].to_numpy().reshape(28,28)\n"
   ]
  },
  {
   "cell_type": "code",
   "execution_count": 40,
   "metadata": {},
   "outputs": [
    {
     "name": "stdout",
     "output_type": "stream",
     "text": [
      "   0\n",
      "0  5\n",
      "1  0\n",
      "2  4\n",
      "3  1\n",
      "4  9\n"
     ]
    }
   ],
   "source": [
    "labels=pd.read_csv(\"labels.csv\", header=None)\n",
    "print(labels.head())\n"
   ]
  },
  {
   "cell_type": "code",
   "execution_count": 43,
   "metadata": {},
   "outputs": [
    {
     "data": {
      "text/html": [
       "<div>\n",
       "<style scoped>\n",
       "    .dataframe tbody tr th:only-of-type {\n",
       "        vertical-align: middle;\n",
       "    }\n",
       "\n",
       "    .dataframe tbody tr th {\n",
       "        vertical-align: top;\n",
       "    }\n",
       "\n",
       "    .dataframe thead th {\n",
       "        text-align: right;\n",
       "    }\n",
       "</style>\n",
       "<table border=\"1\" class=\"dataframe\">\n",
       "  <thead>\n",
       "    <tr style=\"text-align: right;\">\n",
       "      <th></th>\n",
       "      <th>0</th>\n",
       "    </tr>\n",
       "  </thead>\n",
       "  <tbody>\n",
       "    <tr>\n",
       "      <th>1</th>\n",
       "      <td>0</td>\n",
       "    </tr>\n",
       "    <tr>\n",
       "      <th>2</th>\n",
       "      <td>4</td>\n",
       "    </tr>\n",
       "    <tr>\n",
       "      <th>3</th>\n",
       "      <td>1</td>\n",
       "    </tr>\n",
       "    <tr>\n",
       "      <th>4</th>\n",
       "      <td>9</td>\n",
       "    </tr>\n",
       "    <tr>\n",
       "      <th>5</th>\n",
       "      <td>2</td>\n",
       "    </tr>\n",
       "  </tbody>\n",
       "</table>\n",
       "</div>"
      ],
      "text/plain": [
       "   0\n",
       "1  0\n",
       "2  4\n",
       "3  1\n",
       "4  9\n",
       "5  2"
      ]
     },
     "execution_count": 43,
     "metadata": {},
     "output_type": "execute_result"
    }
   ],
   "source": [
    "labels=labels.iloc[1:,:]\n",
    "labels.head()"
   ]
  },
  {
   "cell_type": "code",
   "execution_count": 44,
   "metadata": {},
   "outputs": [
    {
     "data": {
      "text/plain": [
       "<matplotlib.image.AxesImage at 0x18fb0f271f0>"
      ]
     },
     "execution_count": 44,
     "metadata": {},
     "output_type": "execute_result"
    },
    {
     "data": {
      "image/png": "[encoded data removed]",
      "text/plain": [
       "<Figure size 432x288 with 1 Axes>"
      ]
     },
     "metadata": {
      "needs_background": "light"
     },
     "output_type": "display_data"
    }
   ],
   "source": [
    "image= data.iloc[3].to_numpy().reshape(28,28)\n",
    "plt.imshow(image, cmap='gray')"
   ]
  },
  {
   "cell_type": "code",
   "execution_count": 45,
   "metadata": {},
   "outputs": [
    {
     "data": {
      "text/html": [
       "<div>\n",
       "<style scoped>\n",
       "    .dataframe tbody tr th:only-of-type {\n",
       "        vertical-align: middle;\n",
       "    }\n",
       "\n",
       "    .dataframe tbody tr th {\n",
       "        vertical-align: top;\n",
       "    }\n",
       "\n",
       "    .dataframe thead th {\n",
       "        text-align: right;\n",
       "    }\n",
       "</style>\n",
       "<table border=\"1\" class=\"dataframe\">\n",
       "  <thead>\n",
       "    <tr style=\"text-align: right;\">\n",
       "      <th></th>\n",
       "      <th>0</th>\n",
       "    </tr>\n",
       "  </thead>\n",
       "  <tbody>\n",
       "    <tr>\n",
       "      <th>1</th>\n",
       "      <td>0</td>\n",
       "    </tr>\n",
       "    <tr>\n",
       "      <th>2</th>\n",
       "      <td>4</td>\n",
       "    </tr>\n",
       "    <tr>\n",
       "      <th>3</th>\n",
       "      <td>1</td>\n",
       "    </tr>\n",
       "    <tr>\n",
       "      <th>4</th>\n",
       "      <td>9</td>\n",
       "    </tr>\n",
       "    <tr>\n",
       "      <th>5</th>\n",
       "      <td>2</td>\n",
       "    </tr>\n",
       "  </tbody>\n",
       "</table>\n",
       "</div>"
      ],
      "text/plain": [
       "   0\n",
       "1  0\n",
       "2  4\n",
       "3  1\n",
       "4  9\n",
       "5  2"
      ]
     },
     "execution_count": 45,
     "metadata": {},
     "output_type": "execute_result"
    }
   ],
   "source": [
    "labels.head()"
   ]
  },
  {
   "cell_type": "code",
   "execution_count": 46,
   "metadata": {},
   "outputs": [],
   "source": [
    "# Test train split : PCA Data and Non PCA Data\n",
    "\n",
    "from sklearn.model_selection import train_test_split\n",
    "\n",
    "X_data, X_pca, y_data, y_pca= train_test_split(data,labels,test_size=0.2)\n"
   ]
  },
  {
   "cell_type": "code",
   "execution_count": 47,
   "metadata": {},
   "outputs": [
    {
     "data": {
      "text/html": [
       "<div>\n",
       "<style scoped>\n",
       "    .dataframe tbody tr th:only-of-type {\n",
       "        vertical-align: middle;\n",
       "    }\n",
       "\n",
       "    .dataframe tbody tr th {\n",
       "        vertical-align: top;\n",
       "    }\n",
       "\n",
       "    .dataframe thead th {\n",
       "        text-align: right;\n",
       "    }\n",
       "</style>\n",
       "<table border=\"1\" class=\"dataframe\">\n",
       "  <thead>\n",
       "    <tr style=\"text-align: right;\">\n",
       "      <th></th>\n",
       "      <th>0</th>\n",
       "      <th>0.1</th>\n",
       "      <th>0.2</th>\n",
       "      <th>0.3</th>\n",
       "      <th>0.4</th>\n",
       "      <th>0.5</th>\n",
       "      <th>0.6</th>\n",
       "      <th>0.7</th>\n",
       "      <th>0.8</th>\n",
       "      <th>0.9</th>\n",
       "      <th>...</th>\n",
       "      <th>0.608</th>\n",
       "      <th>0.609</th>\n",
       "      <th>0.610</th>\n",
       "      <th>0.611</th>\n",
       "      <th>0.612</th>\n",
       "      <th>0.613</th>\n",
       "      <th>0.614</th>\n",
       "      <th>0.615</th>\n",
       "      <th>0.616</th>\n",
       "      <th>0.617</th>\n",
       "    </tr>\n",
       "  </thead>\n",
       "  <tbody>\n",
       "    <tr>\n",
       "      <th>9228</th>\n",
       "      <td>0</td>\n",
       "      <td>0</td>\n",
       "      <td>0</td>\n",
       "      <td>0</td>\n",
       "      <td>0</td>\n",
       "      <td>0</td>\n",
       "      <td>0</td>\n",
       "      <td>0</td>\n",
       "      <td>0</td>\n",
       "      <td>0</td>\n",
       "      <td>...</td>\n",
       "      <td>0</td>\n",
       "      <td>0</td>\n",
       "      <td>0</td>\n",
       "      <td>0</td>\n",
       "      <td>0</td>\n",
       "      <td>0</td>\n",
       "      <td>0</td>\n",
       "      <td>0</td>\n",
       "      <td>0</td>\n",
       "      <td>0</td>\n",
       "    </tr>\n",
       "    <tr>\n",
       "      <th>15123</th>\n",
       "      <td>0</td>\n",
       "      <td>0</td>\n",
       "      <td>0</td>\n",
       "      <td>0</td>\n",
       "      <td>0</td>\n",
       "      <td>0</td>\n",
       "      <td>0</td>\n",
       "      <td>0</td>\n",
       "      <td>0</td>\n",
       "      <td>0</td>\n",
       "      <td>...</td>\n",
       "      <td>0</td>\n",
       "      <td>0</td>\n",
       "      <td>0</td>\n",
       "      <td>0</td>\n",
       "      <td>0</td>\n",
       "      <td>0</td>\n",
       "      <td>0</td>\n",
       "      <td>0</td>\n",
       "      <td>0</td>\n",
       "      <td>0</td>\n",
       "    </tr>\n",
       "    <tr>\n",
       "      <th>16539</th>\n",
       "      <td>0</td>\n",
       "      <td>0</td>\n",
       "      <td>0</td>\n",
       "      <td>0</td>\n",
       "      <td>0</td>\n",
       "      <td>0</td>\n",
       "      <td>0</td>\n",
       "      <td>0</td>\n",
       "      <td>0</td>\n",
       "      <td>0</td>\n",
       "      <td>...</td>\n",
       "      <td>0</td>\n",
       "      <td>0</td>\n",
       "      <td>0</td>\n",
       "      <td>0</td>\n",
       "      <td>0</td>\n",
       "      <td>0</td>\n",
       "      <td>0</td>\n",
       "      <td>0</td>\n",
       "      <td>0</td>\n",
       "      <td>0</td>\n",
       "    </tr>\n",
       "    <tr>\n",
       "      <th>38264</th>\n",
       "      <td>0</td>\n",
       "      <td>0</td>\n",
       "      <td>0</td>\n",
       "      <td>0</td>\n",
       "      <td>0</td>\n",
       "      <td>0</td>\n",
       "      <td>0</td>\n",
       "      <td>0</td>\n",
       "      <td>0</td>\n",
       "      <td>0</td>\n",
       "      <td>...</td>\n",
       "      <td>0</td>\n",
       "      <td>0</td>\n",
       "      <td>0</td>\n",
       "      <td>0</td>\n",
       "      <td>0</td>\n",
       "      <td>0</td>\n",
       "      <td>0</td>\n",
       "      <td>0</td>\n",
       "      <td>0</td>\n",
       "      <td>0</td>\n",
       "    </tr>\n",
       "    <tr>\n",
       "      <th>11852</th>\n",
       "      <td>0</td>\n",
       "      <td>0</td>\n",
       "      <td>0</td>\n",
       "      <td>0</td>\n",
       "      <td>0</td>\n",
       "      <td>0</td>\n",
       "      <td>0</td>\n",
       "      <td>0</td>\n",
       "      <td>0</td>\n",
       "      <td>0</td>\n",
       "      <td>...</td>\n",
       "      <td>0</td>\n",
       "      <td>0</td>\n",
       "      <td>0</td>\n",
       "      <td>0</td>\n",
       "      <td>0</td>\n",
       "      <td>0</td>\n",
       "      <td>0</td>\n",
       "      <td>0</td>\n",
       "      <td>0</td>\n",
       "      <td>0</td>\n",
       "    </tr>\n",
       "    <tr>\n",
       "      <th>...</th>\n",
       "      <td>...</td>\n",
       "      <td>...</td>\n",
       "      <td>...</td>\n",
       "      <td>...</td>\n",
       "      <td>...</td>\n",
       "      <td>...</td>\n",
       "      <td>...</td>\n",
       "      <td>...</td>\n",
       "      <td>...</td>\n",
       "      <td>...</td>\n",
       "      <td>...</td>\n",
       "      <td>...</td>\n",
       "      <td>...</td>\n",
       "      <td>...</td>\n",
       "      <td>...</td>\n",
       "      <td>...</td>\n",
       "      <td>...</td>\n",
       "      <td>...</td>\n",
       "      <td>...</td>\n",
       "      <td>...</td>\n",
       "      <td>...</td>\n",
       "    </tr>\n",
       "    <tr>\n",
       "      <th>35824</th>\n",
       "      <td>0</td>\n",
       "      <td>0</td>\n",
       "      <td>0</td>\n",
       "      <td>0</td>\n",
       "      <td>0</td>\n",
       "      <td>0</td>\n",
       "      <td>0</td>\n",
       "      <td>0</td>\n",
       "      <td>0</td>\n",
       "      <td>0</td>\n",
       "      <td>...</td>\n",
       "      <td>0</td>\n",
       "      <td>0</td>\n",
       "      <td>0</td>\n",
       "      <td>0</td>\n",
       "      <td>0</td>\n",
       "      <td>0</td>\n",
       "      <td>0</td>\n",
       "      <td>0</td>\n",
       "      <td>0</td>\n",
       "      <td>0</td>\n",
       "    </tr>\n",
       "    <tr>\n",
       "      <th>13601</th>\n",
       "      <td>0</td>\n",
       "      <td>0</td>\n",
       "      <td>0</td>\n",
       "      <td>0</td>\n",
       "      <td>0</td>\n",
       "      <td>0</td>\n",
       "      <td>0</td>\n",
       "      <td>0</td>\n",
       "      <td>0</td>\n",
       "      <td>0</td>\n",
       "      <td>...</td>\n",
       "      <td>0</td>\n",
       "      <td>0</td>\n",
       "      <td>0</td>\n",
       "      <td>0</td>\n",
       "      <td>0</td>\n",
       "      <td>0</td>\n",
       "      <td>0</td>\n",
       "      <td>0</td>\n",
       "      <td>0</td>\n",
       "      <td>0</td>\n",
       "    </tr>\n",
       "    <tr>\n",
       "      <th>30471</th>\n",
       "      <td>0</td>\n",
       "      <td>0</td>\n",
       "      <td>0</td>\n",
       "      <td>0</td>\n",
       "      <td>0</td>\n",
       "      <td>0</td>\n",
       "      <td>0</td>\n",
       "      <td>0</td>\n",
       "      <td>0</td>\n",
       "      <td>0</td>\n",
       "      <td>...</td>\n",
       "      <td>0</td>\n",
       "      <td>0</td>\n",
       "      <td>0</td>\n",
       "      <td>0</td>\n",
       "      <td>0</td>\n",
       "      <td>0</td>\n",
       "      <td>0</td>\n",
       "      <td>0</td>\n",
       "      <td>0</td>\n",
       "      <td>0</td>\n",
       "    </tr>\n",
       "    <tr>\n",
       "      <th>25810</th>\n",
       "      <td>0</td>\n",
       "      <td>0</td>\n",
       "      <td>0</td>\n",
       "      <td>0</td>\n",
       "      <td>0</td>\n",
       "      <td>0</td>\n",
       "      <td>0</td>\n",
       "      <td>0</td>\n",
       "      <td>0</td>\n",
       "      <td>0</td>\n",
       "      <td>...</td>\n",
       "      <td>0</td>\n",
       "      <td>0</td>\n",
       "      <td>0</td>\n",
       "      <td>0</td>\n",
       "      <td>0</td>\n",
       "      <td>0</td>\n",
       "      <td>0</td>\n",
       "      <td>0</td>\n",
       "      <td>0</td>\n",
       "      <td>0</td>\n",
       "    </tr>\n",
       "    <tr>\n",
       "      <th>11440</th>\n",
       "      <td>0</td>\n",
       "      <td>0</td>\n",
       "      <td>0</td>\n",
       "      <td>0</td>\n",
       "      <td>0</td>\n",
       "      <td>0</td>\n",
       "      <td>0</td>\n",
       "      <td>0</td>\n",
       "      <td>0</td>\n",
       "      <td>0</td>\n",
       "      <td>...</td>\n",
       "      <td>0</td>\n",
       "      <td>0</td>\n",
       "      <td>0</td>\n",
       "      <td>0</td>\n",
       "      <td>0</td>\n",
       "      <td>0</td>\n",
       "      <td>0</td>\n",
       "      <td>0</td>\n",
       "      <td>0</td>\n",
       "      <td>0</td>\n",
       "    </tr>\n",
       "  </tbody>\n",
       "</table>\n",
       "<p>12000 rows × 784 columns</p>\n",
       "</div>"
      ],
      "text/plain": [
       "       0  0.1  0.2  0.3  0.4  0.5  0.6  0.7  0.8  0.9  ...  0.608  0.609  \\\n",
       "9228   0    0    0    0    0    0    0    0    0    0  ...      0      0   \n",
       "15123  0    0    0    0    0    0    0    0    0    0  ...      0      0   \n",
       "16539  0    0    0    0    0    0    0    0    0    0  ...      0      0   \n",
       "38264  0    0    0    0    0    0    0    0    0    0  ...      0      0   \n",
       "11852  0    0    0    0    0    0    0    0    0    0  ...      0      0   \n",
       "...   ..  ...  ...  ...  ...  ...  ...  ...  ...  ...  ...    ...    ...   \n",
       "35824  0    0    0    0    0    0    0    0    0    0  ...      0      0   \n",
       "13601  0    0    0    0    0    0    0    0    0    0  ...      0      0   \n",
       "30471  0    0    0    0    0    0    0    0    0    0  ...      0      0   \n",
       "25810  0    0    0    0    0    0    0    0    0    0  ...      0      0   \n",
       "11440  0    0    0    0    0    0    0    0    0    0  ...      0      0   \n",
       "\n",
       "       0.610  0.611  0.612  0.613  0.614  0.615  0.616  0.617  \n",
       "9228       0      0      0      0      0      0      0      0  \n",
       "15123      0      0      0      0      0      0      0      0  \n",
       "16539      0      0      0      0      0      0      0      0  \n",
       "38264      0      0      0      0      0      0      0      0  \n",
       "11852      0      0      0      0      0      0      0      0  \n",
       "...      ...    ...    ...    ...    ...    ...    ...    ...  \n",
       "35824      0      0      0      0      0      0      0      0  \n",
       "13601      0      0      0      0      0      0      0      0  \n",
       "30471      0      0      0      0      0      0      0      0  \n",
       "25810      0      0      0      0      0      0      0      0  \n",
       "11440      0      0      0      0      0      0      0      0  \n",
       "\n",
       "[12000 rows x 784 columns]"
      ]
     },
     "execution_count": 47,
     "metadata": {},
     "output_type": "execute_result"
    }
   ],
   "source": [
    "X_pca"
   ]
  },
  {
   "cell_type": "code",
   "execution_count": 49,
   "metadata": {},
   "outputs": [
    {
     "data": {
      "text/plain": [
       "<matplotlib.image.AxesImage at 0x18fb0f6ae20>"
      ]
     },
     "execution_count": 49,
     "metadata": {},
     "output_type": "execute_result"
    },
    {
     "data": {
      "image/png": "[encoded data removed]",
      "text/plain": [
       "<Figure size 432x288 with 1 Axes>"
      ]
     },
     "metadata": {
      "needs_background": "light"
     },
     "output_type": "display_data"
    }
   ],
   "source": [
    "im=X_data.iloc[[6279]].to_numpy().reshape(28,28)\n",
    "plt.imshow(im,cmap='gray')"
   ]
  },
  {
   "cell_type": "code",
   "execution_count": 52,
   "metadata": {},
   "outputs": [
    {
     "data": {
      "text/html": [
       "<div>\n",
       "<style scoped>\n",
       "    .dataframe tbody tr th:only-of-type {\n",
       "        vertical-align: middle;\n",
       "    }\n",
       "\n",
       "    .dataframe tbody tr th {\n",
       "        vertical-align: top;\n",
       "    }\n",
       "\n",
       "    .dataframe thead th {\n",
       "        text-align: right;\n",
       "    }\n",
       "</style>\n",
       "<table border=\"1\" class=\"dataframe\">\n",
       "  <thead>\n",
       "    <tr style=\"text-align: right;\">\n",
       "      <th></th>\n",
       "      <th>0</th>\n",
       "    </tr>\n",
       "  </thead>\n",
       "  <tbody>\n",
       "    <tr>\n",
       "      <th>16436</th>\n",
       "      <td>6</td>\n",
       "    </tr>\n",
       "  </tbody>\n",
       "</table>\n",
       "</div>"
      ],
      "text/plain": [
       "       0\n",
       "16436  6"
      ]
     },
     "execution_count": 52,
     "metadata": {},
     "output_type": "execute_result"
    }
   ],
   "source": [
    "y_data.iloc[[6279]]"
   ]
  },
  {
   "cell_type": "code",
   "execution_count": 5,
   "metadata": {},
   "outputs": [],
   "source": [
    "#why were we doing PCA at all?\n",
    "# save time\n",
    "\n",
    "# will we save time is we have to do PCA first on all the data points?\n",
    "\n",
    "# Reg only = 10s\n",
    "# PCA + Reg = 10s + 3s = 13s\n",
    "\n",
    "\n",
    "#divide the data - only a small sample for PCA\n",
    "#use the complete data for regression only"
   ]
  },
  {
   "cell_type": "code",
   "execution_count": 53,
   "metadata": {},
   "outputs": [],
   "source": [
    "# Import PCA module\n",
    "from sklearn.decomposition import PCA\n",
    "pca = PCA().fit(X_pca)"
   ]
  },
  {
   "cell_type": "code",
   "execution_count": 54,
   "metadata": {},
   "outputs": [
    {
     "data": {
      "text/plain": [
       "784"
      ]
     },
     "execution_count": 54,
     "metadata": {},
     "output_type": "execute_result"
    }
   ],
   "source": [
    "pca.n_components_"
   ]
  },
  {
   "cell_type": "code",
   "execution_count": 56,
   "metadata": {},
   "outputs": [
    {
     "data": {
      "text/plain": [
       "[<matplotlib.lines.Line2D at 0x18fb1182dc0>]"
      ]
     },
     "execution_count": 56,
     "metadata": {},
     "output_type": "execute_result"
    },
    {
     "data": {
      "image/png": "[encoded data removed]",
      "text/plain": [
       "<Figure size 432x288 with 1 Axes>"
      ]
     },
     "metadata": {
      "needs_background": "light"
     },
     "output_type": "display_data"
    }
   ],
   "source": [
    "var = np.cumsum(np.round(pca.explained_variance_ratio_, decimals=4)*100)\n",
    "plt.ylabel('% Variance Explained')\n",
    "plt.xlabel('Number of Features')\n",
    "plt.title('PCA Analysis')\n",
    "plt.ylim(30,100.5)\n",
    "plt.style.context('seaborm-whitegrid')\n",
    "plt.plot(var)"
   ]
  },
  {
   "cell_type": "code",
   "execution_count": 57,
   "metadata": {},
   "outputs": [],
   "source": [
    "# Import PCA module. Perform the PCA. fit and get the n Components data.\n",
    "from sklearn.decomposition import PCA\n",
    "pca = PCA(.95).fit(X_pca)"
   ]
  },
  {
   "cell_type": "code",
   "execution_count": 58,
   "metadata": {
    "scrolled": true
   },
   "outputs": [
    {
     "data": {
      "text/plain": [
       "152"
      ]
     },
     "execution_count": 58,
     "metadata": {},
     "output_type": "execute_result"
    }
   ],
   "source": [
    "pca.n_components_"
   ]
  },
  {
   "cell_type": "code",
   "execution_count": null,
   "metadata": {},
   "outputs": [],
   "source": [
    "#Using n Components data  we perform another fit. It is an alternative of the above performed fit.\n"
   ]
  },
  {
   "cell_type": "code",
   "execution_count": 59,
   "metadata": {},
   "outputs": [
    {
     "name": "stdout",
     "output_type": "stream",
     "text": [
      "(12000, 150)\n"
     ]
    }
   ],
   "source": [
    "pca= PCA(n_components=150, random_state=0)\n",
    "pca.fit(X_pca)\n",
    "X_pca_t= pca.transform(X_pca)\n",
    "print(X_pca_t.shape)"
   ]
  },
  {
   "cell_type": "code",
   "execution_count": 60,
   "metadata": {},
   "outputs": [
    {
     "data": {
      "text/plain": [
       "(47999, 150)"
      ]
     },
     "execution_count": 60,
     "metadata": {},
     "output_type": "execute_result"
    }
   ],
   "source": [
    "X_data_t = pca.transform(X_data)\n",
    "X_data_t.shape"
   ]
  },
  {
   "cell_type": "code",
   "execution_count": 61,
   "metadata": {},
   "outputs": [],
   "source": [
    "X_data_t= pd.DataFrame(data=X_data_t)"
   ]
  },
  {
   "cell_type": "code",
   "execution_count": 62,
   "metadata": {},
   "outputs": [
    {
     "data": {
      "text/html": [
       "<div>\n",
       "<style scoped>\n",
       "    .dataframe tbody tr th:only-of-type {\n",
       "        vertical-align: middle;\n",
       "    }\n",
       "\n",
       "    .dataframe tbody tr th {\n",
       "        vertical-align: top;\n",
       "    }\n",
       "\n",
       "    .dataframe thead th {\n",
       "        text-align: right;\n",
       "    }\n",
       "</style>\n",
       "<table border=\"1\" class=\"dataframe\">\n",
       "  <thead>\n",
       "    <tr style=\"text-align: right;\">\n",
       "      <th></th>\n",
       "      <th>0</th>\n",
       "      <th>1</th>\n",
       "      <th>2</th>\n",
       "      <th>3</th>\n",
       "      <th>4</th>\n",
       "      <th>5</th>\n",
       "      <th>6</th>\n",
       "      <th>7</th>\n",
       "      <th>8</th>\n",
       "      <th>9</th>\n",
       "      <th>...</th>\n",
       "      <th>140</th>\n",
       "      <th>141</th>\n",
       "      <th>142</th>\n",
       "      <th>143</th>\n",
       "      <th>144</th>\n",
       "      <th>145</th>\n",
       "      <th>146</th>\n",
       "      <th>147</th>\n",
       "      <th>148</th>\n",
       "      <th>149</th>\n",
       "    </tr>\n",
       "  </thead>\n",
       "  <tbody>\n",
       "    <tr>\n",
       "      <th>0</th>\n",
       "      <td>-220.416023</td>\n",
       "      <td>849.676142</td>\n",
       "      <td>246.051712</td>\n",
       "      <td>-740.714128</td>\n",
       "      <td>-283.648479</td>\n",
       "      <td>-546.503266</td>\n",
       "      <td>663.426687</td>\n",
       "      <td>326.920417</td>\n",
       "      <td>144.988701</td>\n",
       "      <td>451.973273</td>\n",
       "      <td>...</td>\n",
       "      <td>-116.944150</td>\n",
       "      <td>13.019132</td>\n",
       "      <td>-11.868787</td>\n",
       "      <td>-26.905162</td>\n",
       "      <td>61.477521</td>\n",
       "      <td>34.383647</td>\n",
       "      <td>-27.347750</td>\n",
       "      <td>37.498568</td>\n",
       "      <td>-69.061312</td>\n",
       "      <td>-61.835728</td>\n",
       "    </tr>\n",
       "    <tr>\n",
       "      <th>1</th>\n",
       "      <td>66.721571</td>\n",
       "      <td>-781.052598</td>\n",
       "      <td>-108.905774</td>\n",
       "      <td>875.922841</td>\n",
       "      <td>498.606920</td>\n",
       "      <td>357.496248</td>\n",
       "      <td>926.099541</td>\n",
       "      <td>42.019884</td>\n",
       "      <td>338.532927</td>\n",
       "      <td>-143.902871</td>\n",
       "      <td>...</td>\n",
       "      <td>15.772200</td>\n",
       "      <td>24.246676</td>\n",
       "      <td>-22.555828</td>\n",
       "      <td>-56.607869</td>\n",
       "      <td>-45.513962</td>\n",
       "      <td>-59.184449</td>\n",
       "      <td>-3.914142</td>\n",
       "      <td>19.270317</td>\n",
       "      <td>-0.182622</td>\n",
       "      <td>-28.198925</td>\n",
       "    </tr>\n",
       "    <tr>\n",
       "      <th>2</th>\n",
       "      <td>480.992156</td>\n",
       "      <td>-164.833873</td>\n",
       "      <td>548.219814</td>\n",
       "      <td>360.271536</td>\n",
       "      <td>-354.985948</td>\n",
       "      <td>-293.109269</td>\n",
       "      <td>296.744652</td>\n",
       "      <td>35.100631</td>\n",
       "      <td>-138.242326</td>\n",
       "      <td>-170.906955</td>\n",
       "      <td>...</td>\n",
       "      <td>-33.653706</td>\n",
       "      <td>-76.721473</td>\n",
       "      <td>57.601578</td>\n",
       "      <td>-60.057797</td>\n",
       "      <td>-8.434248</td>\n",
       "      <td>90.279880</td>\n",
       "      <td>22.286731</td>\n",
       "      <td>-10.227011</td>\n",
       "      <td>-42.508681</td>\n",
       "      <td>-15.454854</td>\n",
       "    </tr>\n",
       "    <tr>\n",
       "      <th>3</th>\n",
       "      <td>5.036765</td>\n",
       "      <td>382.502996</td>\n",
       "      <td>385.482277</td>\n",
       "      <td>-1130.843593</td>\n",
       "      <td>467.412480</td>\n",
       "      <td>-121.739169</td>\n",
       "      <td>317.301650</td>\n",
       "      <td>-313.404197</td>\n",
       "      <td>202.846044</td>\n",
       "      <td>643.434961</td>\n",
       "      <td>...</td>\n",
       "      <td>71.242472</td>\n",
       "      <td>-18.048372</td>\n",
       "      <td>-29.221645</td>\n",
       "      <td>3.571764</td>\n",
       "      <td>-51.516619</td>\n",
       "      <td>-30.134368</td>\n",
       "      <td>-47.059985</td>\n",
       "      <td>2.622753</td>\n",
       "      <td>0.815918</td>\n",
       "      <td>-1.673728</td>\n",
       "    </tr>\n",
       "    <tr>\n",
       "      <th>4</th>\n",
       "      <td>-363.023934</td>\n",
       "      <td>-195.045361</td>\n",
       "      <td>687.286368</td>\n",
       "      <td>-401.592986</td>\n",
       "      <td>-445.600015</td>\n",
       "      <td>-225.630461</td>\n",
       "      <td>229.272803</td>\n",
       "      <td>411.936212</td>\n",
       "      <td>346.805255</td>\n",
       "      <td>6.868775</td>\n",
       "      <td>...</td>\n",
       "      <td>-30.829646</td>\n",
       "      <td>29.377695</td>\n",
       "      <td>-56.460652</td>\n",
       "      <td>35.118268</td>\n",
       "      <td>-36.237559</td>\n",
       "      <td>52.803292</td>\n",
       "      <td>13.067787</td>\n",
       "      <td>41.935649</td>\n",
       "      <td>-47.400069</td>\n",
       "      <td>38.693256</td>\n",
       "    </tr>\n",
       "  </tbody>\n",
       "</table>\n",
       "<p>5 rows × 150 columns</p>\n",
       "</div>"
      ],
      "text/plain": [
       "          0           1           2            3           4           5    \\\n",
       "0 -220.416023  849.676142  246.051712  -740.714128 -283.648479 -546.503266   \n",
       "1   66.721571 -781.052598 -108.905774   875.922841  498.606920  357.496248   \n",
       "2  480.992156 -164.833873  548.219814   360.271536 -354.985948 -293.109269   \n",
       "3    5.036765  382.502996  385.482277 -1130.843593  467.412480 -121.739169   \n",
       "4 -363.023934 -195.045361  687.286368  -401.592986 -445.600015 -225.630461   \n",
       "\n",
       "          6           7           8           9    ...         140        141  \\\n",
       "0  663.426687  326.920417  144.988701  451.973273  ... -116.944150  13.019132   \n",
       "1  926.099541   42.019884  338.532927 -143.902871  ...   15.772200  24.246676   \n",
       "2  296.744652   35.100631 -138.242326 -170.906955  ...  -33.653706 -76.721473   \n",
       "3  317.301650 -313.404197  202.846044  643.434961  ...   71.242472 -18.048372   \n",
       "4  229.272803  411.936212  346.805255    6.868775  ...  -30.829646  29.377695   \n",
       "\n",
       "         142        143        144        145        146        147  \\\n",
       "0 -11.868787 -26.905162  61.477521  34.383647 -27.347750  37.498568   \n",
       "1 -22.555828 -56.607869 -45.513962 -59.184449  -3.914142  19.270317   \n",
       "2  57.601578 -60.057797  -8.434248  90.279880  22.286731 -10.227011   \n",
       "3 -29.221645   3.571764 -51.516619 -30.134368 -47.059985   2.622753   \n",
       "4 -56.460652  35.118268 -36.237559  52.803292  13.067787  41.935649   \n",
       "\n",
       "         148        149  \n",
       "0 -69.061312 -61.835728  \n",
       "1  -0.182622 -28.198925  \n",
       "2 -42.508681 -15.454854  \n",
       "3   0.815918  -1.673728  \n",
       "4 -47.400069  38.693256  \n",
       "\n",
       "[5 rows x 150 columns]"
      ]
     },
     "execution_count": 62,
     "metadata": {},
     "output_type": "execute_result"
    }
   ],
   "source": [
    "X_data_t.head()"
   ]
  },
  {
   "cell_type": "code",
   "execution_count": 63,
   "metadata": {},
   "outputs": [],
   "source": [
    "X_pca_invt= pca.inverse_transform(X_pca_t)"
   ]
  },
  {
   "cell_type": "code",
   "execution_count": 64,
   "metadata": {},
   "outputs": [
    {
     "data": {
      "text/plain": [
       "(12000, 784)"
      ]
     },
     "execution_count": 64,
     "metadata": {},
     "output_type": "execute_result"
    }
   ],
   "source": [
    "X_pca_invt.shape"
   ]
  },
  {
   "cell_type": "code",
   "execution_count": 65,
   "metadata": {},
   "outputs": [],
   "source": [
    "X_pca_invt= pd.DataFrame(data=X_pca_invt)"
   ]
  },
  {
   "cell_type": "code",
   "execution_count": 66,
   "metadata": {},
   "outputs": [
    {
     "data": {
      "text/html": [
       "<div>\n",
       "<style scoped>\n",
       "    .dataframe tbody tr th:only-of-type {\n",
       "        vertical-align: middle;\n",
       "    }\n",
       "\n",
       "    .dataframe tbody tr th {\n",
       "        vertical-align: top;\n",
       "    }\n",
       "\n",
       "    .dataframe thead th {\n",
       "        text-align: right;\n",
       "    }\n",
       "</style>\n",
       "<table border=\"1\" class=\"dataframe\">\n",
       "  <thead>\n",
       "    <tr style=\"text-align: right;\">\n",
       "      <th></th>\n",
       "      <th>0</th>\n",
       "      <th>1</th>\n",
       "      <th>2</th>\n",
       "      <th>3</th>\n",
       "      <th>4</th>\n",
       "      <th>5</th>\n",
       "      <th>6</th>\n",
       "      <th>7</th>\n",
       "      <th>8</th>\n",
       "      <th>9</th>\n",
       "      <th>...</th>\n",
       "      <th>774</th>\n",
       "      <th>775</th>\n",
       "      <th>776</th>\n",
       "      <th>777</th>\n",
       "      <th>778</th>\n",
       "      <th>779</th>\n",
       "      <th>780</th>\n",
       "      <th>781</th>\n",
       "      <th>782</th>\n",
       "      <th>783</th>\n",
       "    </tr>\n",
       "  </thead>\n",
       "  <tbody>\n",
       "    <tr>\n",
       "      <th>0</th>\n",
       "      <td>1.286786e-13</td>\n",
       "      <td>7.099188e-14</td>\n",
       "      <td>-1.454313e-13</td>\n",
       "      <td>-1.489412e-13</td>\n",
       "      <td>7.648261e-14</td>\n",
       "      <td>-8.750371e-14</td>\n",
       "      <td>-2.490821e-14</td>\n",
       "      <td>1.022517e-13</td>\n",
       "      <td>1.164522e-13</td>\n",
       "      <td>1.167285e-13</td>\n",
       "      <td>...</td>\n",
       "      <td>2.662485</td>\n",
       "      <td>1.491881</td>\n",
       "      <td>0.480440</td>\n",
       "      <td>0.004245</td>\n",
       "      <td>-0.237452</td>\n",
       "      <td>-0.060336</td>\n",
       "      <td>0.0</td>\n",
       "      <td>0.0</td>\n",
       "      <td>0.0</td>\n",
       "      <td>0.0</td>\n",
       "    </tr>\n",
       "    <tr>\n",
       "      <th>1</th>\n",
       "      <td>1.526558e-13</td>\n",
       "      <td>5.947687e-14</td>\n",
       "      <td>-3.199138e-13</td>\n",
       "      <td>-5.028391e-14</td>\n",
       "      <td>-3.725879e-13</td>\n",
       "      <td>5.388468e-13</td>\n",
       "      <td>1.076739e-13</td>\n",
       "      <td>9.703399e-14</td>\n",
       "      <td>3.146764e-13</td>\n",
       "      <td>1.808675e-13</td>\n",
       "      <td>...</td>\n",
       "      <td>2.966157</td>\n",
       "      <td>1.655937</td>\n",
       "      <td>0.189162</td>\n",
       "      <td>-0.294698</td>\n",
       "      <td>-1.018614</td>\n",
       "      <td>-0.258828</td>\n",
       "      <td>0.0</td>\n",
       "      <td>0.0</td>\n",
       "      <td>0.0</td>\n",
       "      <td>0.0</td>\n",
       "    </tr>\n",
       "    <tr>\n",
       "      <th>2</th>\n",
       "      <td>2.441536e-14</td>\n",
       "      <td>-1.143767e-13</td>\n",
       "      <td>5.912746e-14</td>\n",
       "      <td>-3.466695e-14</td>\n",
       "      <td>-7.873900e-14</td>\n",
       "      <td>-3.982575e-13</td>\n",
       "      <td>1.538670e-13</td>\n",
       "      <td>2.792454e-14</td>\n",
       "      <td>-1.112995e-15</td>\n",
       "      <td>-3.828805e-14</td>\n",
       "      <td>...</td>\n",
       "      <td>0.015818</td>\n",
       "      <td>-0.063226</td>\n",
       "      <td>-0.335745</td>\n",
       "      <td>-0.263276</td>\n",
       "      <td>-0.561162</td>\n",
       "      <td>-0.142590</td>\n",
       "      <td>0.0</td>\n",
       "      <td>0.0</td>\n",
       "      <td>0.0</td>\n",
       "      <td>0.0</td>\n",
       "    </tr>\n",
       "    <tr>\n",
       "      <th>3</th>\n",
       "      <td>1.486912e-13</td>\n",
       "      <td>-2.248944e-13</td>\n",
       "      <td>-7.412236e-14</td>\n",
       "      <td>-3.699058e-14</td>\n",
       "      <td>7.608127e-14</td>\n",
       "      <td>-1.748666e-13</td>\n",
       "      <td>1.779911e-13</td>\n",
       "      <td>-3.003455e-13</td>\n",
       "      <td>7.275707e-14</td>\n",
       "      <td>4.232180e-14</td>\n",
       "      <td>...</td>\n",
       "      <td>0.013120</td>\n",
       "      <td>-0.186624</td>\n",
       "      <td>-0.449754</td>\n",
       "      <td>-0.188753</td>\n",
       "      <td>0.107244</td>\n",
       "      <td>0.027251</td>\n",
       "      <td>0.0</td>\n",
       "      <td>0.0</td>\n",
       "      <td>0.0</td>\n",
       "      <td>0.0</td>\n",
       "    </tr>\n",
       "    <tr>\n",
       "      <th>4</th>\n",
       "      <td>-2.223541e-13</td>\n",
       "      <td>-1.631597e-13</td>\n",
       "      <td>-2.102263e-14</td>\n",
       "      <td>4.253835e-14</td>\n",
       "      <td>5.568602e-14</td>\n",
       "      <td>-3.628654e-14</td>\n",
       "      <td>1.411642e-13</td>\n",
       "      <td>5.355884e-14</td>\n",
       "      <td>1.292958e-13</td>\n",
       "      <td>4.284737e-15</td>\n",
       "      <td>...</td>\n",
       "      <td>0.373323</td>\n",
       "      <td>0.376511</td>\n",
       "      <td>0.475028</td>\n",
       "      <td>0.240001</td>\n",
       "      <td>0.538750</td>\n",
       "      <td>0.136895</td>\n",
       "      <td>0.0</td>\n",
       "      <td>0.0</td>\n",
       "      <td>0.0</td>\n",
       "      <td>0.0</td>\n",
       "    </tr>\n",
       "    <tr>\n",
       "      <th>...</th>\n",
       "      <td>...</td>\n",
       "      <td>...</td>\n",
       "      <td>...</td>\n",
       "      <td>...</td>\n",
       "      <td>...</td>\n",
       "      <td>...</td>\n",
       "      <td>...</td>\n",
       "      <td>...</td>\n",
       "      <td>...</td>\n",
       "      <td>...</td>\n",
       "      <td>...</td>\n",
       "      <td>...</td>\n",
       "      <td>...</td>\n",
       "      <td>...</td>\n",
       "      <td>...</td>\n",
       "      <td>...</td>\n",
       "      <td>...</td>\n",
       "      <td>...</td>\n",
       "      <td>...</td>\n",
       "      <td>...</td>\n",
       "      <td>...</td>\n",
       "    </tr>\n",
       "    <tr>\n",
       "      <th>11995</th>\n",
       "      <td>-1.307489e-13</td>\n",
       "      <td>-1.640754e-13</td>\n",
       "      <td>1.448417e-14</td>\n",
       "      <td>-1.995914e-13</td>\n",
       "      <td>-1.819474e-13</td>\n",
       "      <td>1.999263e-13</td>\n",
       "      <td>2.608518e-13</td>\n",
       "      <td>3.027036e-13</td>\n",
       "      <td>-5.397891e-14</td>\n",
       "      <td>7.617297e-14</td>\n",
       "      <td>...</td>\n",
       "      <td>0.066784</td>\n",
       "      <td>0.267760</td>\n",
       "      <td>0.165099</td>\n",
       "      <td>0.116351</td>\n",
       "      <td>0.535127</td>\n",
       "      <td>0.135975</td>\n",
       "      <td>0.0</td>\n",
       "      <td>0.0</td>\n",
       "      <td>0.0</td>\n",
       "      <td>0.0</td>\n",
       "    </tr>\n",
       "    <tr>\n",
       "      <th>11996</th>\n",
       "      <td>-3.115199e-14</td>\n",
       "      <td>1.114470e-13</td>\n",
       "      <td>1.480717e-13</td>\n",
       "      <td>9.759293e-14</td>\n",
       "      <td>1.926581e-13</td>\n",
       "      <td>2.439613e-13</td>\n",
       "      <td>-4.282949e-14</td>\n",
       "      <td>-1.815153e-14</td>\n",
       "      <td>8.626062e-14</td>\n",
       "      <td>3.702811e-15</td>\n",
       "      <td>...</td>\n",
       "      <td>1.237203</td>\n",
       "      <td>1.278564</td>\n",
       "      <td>0.935751</td>\n",
       "      <td>0.214570</td>\n",
       "      <td>0.189017</td>\n",
       "      <td>0.048029</td>\n",
       "      <td>0.0</td>\n",
       "      <td>0.0</td>\n",
       "      <td>0.0</td>\n",
       "      <td>0.0</td>\n",
       "    </tr>\n",
       "    <tr>\n",
       "      <th>11997</th>\n",
       "      <td>-3.171352e-14</td>\n",
       "      <td>-1.910626e-13</td>\n",
       "      <td>-1.276260e-13</td>\n",
       "      <td>9.087304e-15</td>\n",
       "      <td>3.576568e-14</td>\n",
       "      <td>-3.813181e-13</td>\n",
       "      <td>-2.622812e-14</td>\n",
       "      <td>3.716690e-13</td>\n",
       "      <td>1.587486e-13</td>\n",
       "      <td>3.849208e-14</td>\n",
       "      <td>...</td>\n",
       "      <td>1.072560</td>\n",
       "      <td>0.457854</td>\n",
       "      <td>0.257084</td>\n",
       "      <td>-0.015728</td>\n",
       "      <td>-0.140435</td>\n",
       "      <td>-0.035684</td>\n",
       "      <td>0.0</td>\n",
       "      <td>0.0</td>\n",
       "      <td>0.0</td>\n",
       "      <td>0.0</td>\n",
       "    </tr>\n",
       "    <tr>\n",
       "      <th>11998</th>\n",
       "      <td>-2.715495e-15</td>\n",
       "      <td>-1.104530e-13</td>\n",
       "      <td>-2.112536e-13</td>\n",
       "      <td>-2.138196e-13</td>\n",
       "      <td>2.581353e-13</td>\n",
       "      <td>-7.347168e-14</td>\n",
       "      <td>-1.160554e-13</td>\n",
       "      <td>1.721728e-13</td>\n",
       "      <td>7.324211e-14</td>\n",
       "      <td>2.370200e-14</td>\n",
       "      <td>...</td>\n",
       "      <td>1.396683</td>\n",
       "      <td>0.943515</td>\n",
       "      <td>0.812165</td>\n",
       "      <td>0.265551</td>\n",
       "      <td>-0.417336</td>\n",
       "      <td>-0.106044</td>\n",
       "      <td>0.0</td>\n",
       "      <td>0.0</td>\n",
       "      <td>0.0</td>\n",
       "      <td>0.0</td>\n",
       "    </tr>\n",
       "    <tr>\n",
       "      <th>11999</th>\n",
       "      <td>9.441386e-15</td>\n",
       "      <td>1.240541e-13</td>\n",
       "      <td>-2.218582e-13</td>\n",
       "      <td>-4.677610e-14</td>\n",
       "      <td>2.184880e-13</td>\n",
       "      <td>-2.144857e-13</td>\n",
       "      <td>-1.596879e-14</td>\n",
       "      <td>-2.894168e-13</td>\n",
       "      <td>-1.272028e-13</td>\n",
       "      <td>-1.233846e-13</td>\n",
       "      <td>...</td>\n",
       "      <td>-0.325557</td>\n",
       "      <td>0.010215</td>\n",
       "      <td>-0.209558</td>\n",
       "      <td>-0.139247</td>\n",
       "      <td>0.052158</td>\n",
       "      <td>0.013253</td>\n",
       "      <td>0.0</td>\n",
       "      <td>0.0</td>\n",
       "      <td>0.0</td>\n",
       "      <td>0.0</td>\n",
       "    </tr>\n",
       "  </tbody>\n",
       "</table>\n",
       "<p>12000 rows × 784 columns</p>\n",
       "</div>"
      ],
      "text/plain": [
       "                0             1             2             3             4    \\\n",
       "0      1.286786e-13  7.099188e-14 -1.454313e-13 -1.489412e-13  7.648261e-14   \n",
       "1      1.526558e-13  5.947687e-14 -3.199138e-13 -5.028391e-14 -3.725879e-13   \n",
       "2      2.441536e-14 -1.143767e-13  5.912746e-14 -3.466695e-14 -7.873900e-14   \n",
       "3      1.486912e-13 -2.248944e-13 -7.412236e-14 -3.699058e-14  7.608127e-14   \n",
       "4     -2.223541e-13 -1.631597e-13 -2.102263e-14  4.253835e-14  5.568602e-14   \n",
       "...             ...           ...           ...           ...           ...   \n",
       "11995 -1.307489e-13 -1.640754e-13  1.448417e-14 -1.995914e-13 -1.819474e-13   \n",
       "11996 -3.115199e-14  1.114470e-13  1.480717e-13  9.759293e-14  1.926581e-13   \n",
       "11997 -3.171352e-14 -1.910626e-13 -1.276260e-13  9.087304e-15  3.576568e-14   \n",
       "11998 -2.715495e-15 -1.104530e-13 -2.112536e-13 -2.138196e-13  2.581353e-13   \n",
       "11999  9.441386e-15  1.240541e-13 -2.218582e-13 -4.677610e-14  2.184880e-13   \n",
       "\n",
       "                5             6             7             8             9    \\\n",
       "0     -8.750371e-14 -2.490821e-14  1.022517e-13  1.164522e-13  1.167285e-13   \n",
       "1      5.388468e-13  1.076739e-13  9.703399e-14  3.146764e-13  1.808675e-13   \n",
       "2     -3.982575e-13  1.538670e-13  2.792454e-14 -1.112995e-15 -3.828805e-14   \n",
       "3     -1.748666e-13  1.779911e-13 -3.003455e-13  7.275707e-14  4.232180e-14   \n",
       "4     -3.628654e-14  1.411642e-13  5.355884e-14  1.292958e-13  4.284737e-15   \n",
       "...             ...           ...           ...           ...           ...   \n",
       "11995  1.999263e-13  2.608518e-13  3.027036e-13 -5.397891e-14  7.617297e-14   \n",
       "11996  2.439613e-13 -4.282949e-14 -1.815153e-14  8.626062e-14  3.702811e-15   \n",
       "11997 -3.813181e-13 -2.622812e-14  3.716690e-13  1.587486e-13  3.849208e-14   \n",
       "11998 -7.347168e-14 -1.160554e-13  1.721728e-13  7.324211e-14  2.370200e-14   \n",
       "11999 -2.144857e-13 -1.596879e-14 -2.894168e-13 -1.272028e-13 -1.233846e-13   \n",
       "\n",
       "       ...       774       775       776       777       778       779  780  \\\n",
       "0      ...  2.662485  1.491881  0.480440  0.004245 -0.237452 -0.060336  0.0   \n",
       "1      ...  2.966157  1.655937  0.189162 -0.294698 -1.018614 -0.258828  0.0   \n",
       "2      ...  0.015818 -0.063226 -0.335745 -0.263276 -0.561162 -0.142590  0.0   \n",
       "3      ...  0.013120 -0.186624 -0.449754 -0.188753  0.107244  0.027251  0.0   \n",
       "4      ...  0.373323  0.376511  0.475028  0.240001  0.538750  0.136895  0.0   \n",
       "...    ...       ...       ...       ...       ...       ...       ...  ...   \n",
       "11995  ...  0.066784  0.267760  0.165099  0.116351  0.535127  0.135975  0.0   \n",
       "11996  ...  1.237203  1.278564  0.935751  0.214570  0.189017  0.048029  0.0   \n",
       "11997  ...  1.072560  0.457854  0.257084 -0.015728 -0.140435 -0.035684  0.0   \n",
       "11998  ...  1.396683  0.943515  0.812165  0.265551 -0.417336 -0.106044  0.0   \n",
       "11999  ... -0.325557  0.010215 -0.209558 -0.139247  0.052158  0.013253  0.0   \n",
       "\n",
       "       781  782  783  \n",
       "0      0.0  0.0  0.0  \n",
       "1      0.0  0.0  0.0  \n",
       "2      0.0  0.0  0.0  \n",
       "3      0.0  0.0  0.0  \n",
       "4      0.0  0.0  0.0  \n",
       "...    ...  ...  ...  \n",
       "11995  0.0  0.0  0.0  \n",
       "11996  0.0  0.0  0.0  \n",
       "11997  0.0  0.0  0.0  \n",
       "11998  0.0  0.0  0.0  \n",
       "11999  0.0  0.0  0.0  \n",
       "\n",
       "[12000 rows x 784 columns]"
      ]
     },
     "execution_count": 66,
     "metadata": {},
     "output_type": "execute_result"
    }
   ],
   "source": [
    "X_pca_invt"
   ]
  },
  {
   "cell_type": "code",
   "execution_count": 69,
   "metadata": {},
   "outputs": [
    {
     "data": {
      "text/plain": [
       "<matplotlib.image.AxesImage at 0x18fb124c670>"
      ]
     },
     "execution_count": 69,
     "metadata": {},
     "output_type": "execute_result"
    },
    {
     "data": {
      "image/png": "[encoded data removed]",
      "text/plain": [
       "<Figure size 432x288 with 1 Axes>"
      ]
     },
     "metadata": {
      "needs_background": "light"
     },
     "output_type": "display_data"
    }
   ],
   "source": [
    "im= X_pca.iloc[[500]].to_numpy().reshape(28,28)\n",
    "plt.imshow(im, cmap='gray')"
   ]
  },
  {
   "cell_type": "code",
   "execution_count": 68,
   "metadata": {},
   "outputs": [
    {
     "data": {
      "text/plain": [
       "<matplotlib.image.AxesImage at 0x18fb1211c70>"
      ]
     },
     "execution_count": 68,
     "metadata": {},
     "output_type": "execute_result"
    },
    {
     "data": {
      "image/png": "[encoded data removed]",
      "text/plain": [
       "<Figure size 432x288 with 1 Axes>"
      ]
     },
     "metadata": {
      "needs_background": "light"
     },
     "output_type": "display_data"
    }
   ],
   "source": [
    "im= X_pca_invt.iloc[[500]].to_numpy().reshape(28,28)\n",
    "plt.imshow(im, cmap='gray')"
   ]
  },
  {
   "cell_type": "code",
   "execution_count": 70,
   "metadata": {},
   "outputs": [
    {
     "data": {
      "text/html": [
       "<div>\n",
       "<style scoped>\n",
       "    .dataframe tbody tr th:only-of-type {\n",
       "        vertical-align: middle;\n",
       "    }\n",
       "\n",
       "    .dataframe tbody tr th {\n",
       "        vertical-align: top;\n",
       "    }\n",
       "\n",
       "    .dataframe thead th {\n",
       "        text-align: right;\n",
       "    }\n",
       "</style>\n",
       "<table border=\"1\" class=\"dataframe\">\n",
       "  <thead>\n",
       "    <tr style=\"text-align: right;\">\n",
       "      <th></th>\n",
       "      <th>0</th>\n",
       "    </tr>\n",
       "  </thead>\n",
       "  <tbody>\n",
       "    <tr>\n",
       "      <th>36729</th>\n",
       "      <td>5</td>\n",
       "    </tr>\n",
       "  </tbody>\n",
       "</table>\n",
       "</div>"
      ],
      "text/plain": [
       "       0\n",
       "36729  5"
      ]
     },
     "execution_count": 70,
     "metadata": {},
     "output_type": "execute_result"
    }
   ],
   "source": [
    "y_pca.iloc[[500]]"
   ]
  },
  {
   "cell_type": "code",
   "execution_count": 71,
   "metadata": {},
   "outputs": [],
   "source": [
    "X_data_invt= pca.inverse_transform(X_data_t)"
   ]
  },
  {
   "cell_type": "code",
   "execution_count": 73,
   "metadata": {},
   "outputs": [
    {
     "data": {
      "text/plain": [
       "(47999, 784)"
      ]
     },
     "execution_count": 73,
     "metadata": {},
     "output_type": "execute_result"
    }
   ],
   "source": [
    "X_data_invt.shape"
   ]
  },
  {
   "cell_type": "code",
   "execution_count": 75,
   "metadata": {},
   "outputs": [],
   "source": [
    "X_data_invt= pd.DataFrame(data=X_data_invt)"
   ]
  },
  {
   "cell_type": "code",
   "execution_count": 77,
   "metadata": {},
   "outputs": [
    {
     "data": {
      "text/plain": [
       "<matplotlib.image.AxesImage at 0x18fb1320370>"
      ]
     },
     "execution_count": 77,
     "metadata": {},
     "output_type": "execute_result"
    },
    {
     "data": {
      "image/png": "[encoded data removed]",
      "text/plain": [
       "<Figure size 432x288 with 1 Axes>"
      ]
     },
     "metadata": {
      "needs_background": "light"
     },
     "output_type": "display_data"
    }
   ],
   "source": [
    "im= X_data.iloc[[500]].to_numpy().reshape(28,28)\n",
    "plt.imshow(im, cmap='gray')"
   ]
  },
  {
   "cell_type": "code",
   "execution_count": 76,
   "metadata": {},
   "outputs": [
    {
     "data": {
      "text/plain": [
       "<matplotlib.image.AxesImage at 0x18fb12e4760>"
      ]
     },
     "execution_count": 76,
     "metadata": {},
     "output_type": "execute_result"
    },
    {
     "data": {
      "image/png": "[encoded data removed]",
      "text/plain": [
       "<Figure size 432x288 with 1 Axes>"
      ]
     },
     "metadata": {
      "needs_background": "light"
     },
     "output_type": "display_data"
    }
   ],
   "source": [
    "im= X_data_invt.iloc[[500]].to_numpy().reshape(28,28)\n",
    "plt.imshow(im, cmap='gray')"
   ]
  },
  {
   "cell_type": "code",
   "execution_count": 78,
   "metadata": {},
   "outputs": [
    {
     "data": {
      "text/plain": [
       "0    7\n",
       "Name: 32294, dtype: int64"
      ]
     },
     "execution_count": 78,
     "metadata": {},
     "output_type": "execute_result"
    }
   ],
   "source": [
    "y_data.iloc[500]"
   ]
  }
 ],
 "metadata": {
  "kernelspec": {
   "display_name": "Python 3 (ipykernel)",
   "language": "python",
   "name": "python3"
  },
  "language_info": {
   "codemirror_mode": {
    "name": "ipython",
    "version": 3
   },
   "file_extension": ".py",
   "mimetype": "text/x-python",
   "name": "python",
   "nbconvert_exporter": "python",
   "pygments_lexer": "ipython3",
   "version": "3.9.12"
  }
 },
 "nbformat": 4,
 "nbformat_minor": 2
}
